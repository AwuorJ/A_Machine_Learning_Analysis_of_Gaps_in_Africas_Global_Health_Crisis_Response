{
 "cells": [
  {
   "cell_type": "markdown",
   "metadata": {},
   "source": [
    "# A Classification Analysis of Existing Global Health Crisis Intervention Gaps in Africa\n",
    "\n",
    "### Introduction\n",
    "\n",
    "The global health sector has already recorded a total of seven pandemics and epidemics, yet the world is only in the first quarter of the 21st century. The HIV/AIDS epidemic has been ongoing since its first outbreak in the 1980s, while COVID-19 and Monkeypox are the most recent global pandemics. Of the seven, H1N1 influenza had a considerably higher intervention success rate. However, even with its relatively high response success rate compared to the others, its effectiveness in Africa was notably lower, similar to every other global health intervention. So, how can Africa break free from over-reliance on the international health sector, and adequately prepare independently for future global health crises?\n",
    "\n",
    "This project aims to build a predictive model of the H1N1 influenza vaccination uptake with the objective of identifying gaps in the patterns of both H1N1 and Seasonal vaccination predictions.\n",
    "\n",
    "### Problem Statement\n",
    "\n",
    "**Background:** \n",
    "Efforts by the global health sector to ensure global immunity against COVID-19 through vaccination achieved a worldwide average of 65.1% complete vaccination uptake. In contrast, Africa registered a discouragingly low vaccination coverage of 32.1%. Therefore, there is an urgent need for Africa to take the initiative to study past pandemic vaccination patterns, identify gaps that limit vaccination access, and plan for future global health interventions within the continent.\n",
    "\n",
    "### Objectives:\n",
    "\n",
    "**1. Build a regression model to predict H1N1 and seasonal flu vaccination uptake.**\n",
    "\n",
    "*Evaluate the model’s performance to identify areas for improvement and ensure it meets a desired reliability standard.*\n",
    "\n",
    "**2. Analyze the probability distributions of the train-test set predictions.**\n",
    "\n",
    "*Investigate past H1N1 and Seasonal flu vaccination patterns to identify trends, gaps in vaccination coverage and potential predictors for future models.*\n",
    "\n",
    "**3. Predict the future probabilities of receiving H1N1 and seasonal flu Vaccines.**\n",
    "\n",
    "*Use these predicted probabilities to assess future vaccination patterns and uncover the potential gaps in vaccination coverage.*\n",
    "\n",
    "### Methodology\n",
    "\n",
    "1. Employ **Logistic Regression** to predict the H1N1 vaccine administration.\n",
    "\n",
    "2. Use **Decision Tree** to predict the seasonal flu vaccine uptake in order to accommodate its bimodal distribution."
   ]
  },
  {
   "cell_type": "markdown",
   "metadata": {},
   "source": [
    "**1. Import libraries**\n",
    "\n",
    "Import libraries and modules for EDA, data cleaning, visualization, modeling and model validation.\n"
   ]
  },
  {
   "cell_type": "code",
   "execution_count": 1,
   "metadata": {},
   "outputs": [],
   "source": [
    "# EDA and data cleaning\n",
    "import pandas as pd\n",
    "import numpy as np\n",
    "from sklearn.preprocessing import OneHotEncoder\n",
    "from IPython.display import display\n",
    "\n",
    "# Data preparation, modeling and model validation\n",
    "from sklearn.model_selection import train_test_split\n",
    "from sklearn.linear_model import LogisticRegression\n",
    "from sklearn.tree import DecisionTreeClassifier\n",
    "from sklearn.metrics import roc_auc_score, accuracy_score, roc_curve, auc, confusion_matrix, classification_report\n",
    "from sklearn.model_selection import cross_val_score\n",
    "\n",
    "# Visualization\n",
    "import matplotlib.pyplot as plt\n",
    "import seaborn as sns\n"
   ]
  },
  {
   "cell_type": "markdown",
   "metadata": {},
   "source": [
    "Load all the dataset ..."
   ]
  },
  {
   "cell_type": "code",
   "execution_count": 2,
   "metadata": {},
   "outputs": [
    {
     "name": "stdout",
     "output_type": "stream",
     "text": [
      "Training Set Labels:\n"
     ]
    },
    {
     "data": {
      "text/html": [
       "<div>\n",
       "<style scoped>\n",
       "    .dataframe tbody tr th:only-of-type {\n",
       "        vertical-align: middle;\n",
       "    }\n",
       "\n",
       "    .dataframe tbody tr th {\n",
       "        vertical-align: top;\n",
       "    }\n",
       "\n",
       "    .dataframe thead th {\n",
       "        text-align: right;\n",
       "    }\n",
       "</style>\n",
       "<table border=\"1\" class=\"dataframe\">\n",
       "  <thead>\n",
       "    <tr style=\"text-align: right;\">\n",
       "      <th></th>\n",
       "      <th>respondent_id</th>\n",
       "      <th>h1n1_vaccine</th>\n",
       "      <th>seasonal_vaccine</th>\n",
       "    </tr>\n",
       "  </thead>\n",
       "  <tbody>\n",
       "    <tr>\n",
       "      <th>0</th>\n",
       "      <td>0</td>\n",
       "      <td>0</td>\n",
       "      <td>0</td>\n",
       "    </tr>\n",
       "    <tr>\n",
       "      <th>1</th>\n",
       "      <td>1</td>\n",
       "      <td>0</td>\n",
       "      <td>1</td>\n",
       "    </tr>\n",
       "    <tr>\n",
       "      <th>2</th>\n",
       "      <td>2</td>\n",
       "      <td>0</td>\n",
       "      <td>0</td>\n",
       "    </tr>\n",
       "    <tr>\n",
       "      <th>3</th>\n",
       "      <td>3</td>\n",
       "      <td>0</td>\n",
       "      <td>1</td>\n",
       "    </tr>\n",
       "    <tr>\n",
       "      <th>4</th>\n",
       "      <td>4</td>\n",
       "      <td>0</td>\n",
       "      <td>0</td>\n",
       "    </tr>\n",
       "  </tbody>\n",
       "</table>\n",
       "</div>"
      ],
      "text/plain": [
       "   respondent_id  h1n1_vaccine  seasonal_vaccine\n",
       "0              0             0                 0\n",
       "1              1             0                 1\n",
       "2              2             0                 0\n",
       "3              3             0                 1\n",
       "4              4             0                 0"
      ]
     },
     "metadata": {},
     "output_type": "display_data"
    },
    {
     "name": "stdout",
     "output_type": "stream",
     "text": [
      "Training Set Features:\n"
     ]
    },
    {
     "data": {
      "text/html": [
       "<div>\n",
       "<style scoped>\n",
       "    .dataframe tbody tr th:only-of-type {\n",
       "        vertical-align: middle;\n",
       "    }\n",
       "\n",
       "    .dataframe tbody tr th {\n",
       "        vertical-align: top;\n",
       "    }\n",
       "\n",
       "    .dataframe thead th {\n",
       "        text-align: right;\n",
       "    }\n",
       "</style>\n",
       "<table border=\"1\" class=\"dataframe\">\n",
       "  <thead>\n",
       "    <tr style=\"text-align: right;\">\n",
       "      <th></th>\n",
       "      <th>respondent_id</th>\n",
       "      <th>h1n1_concern</th>\n",
       "      <th>h1n1_knowledge</th>\n",
       "      <th>behavioral_antiviral_meds</th>\n",
       "      <th>behavioral_avoidance</th>\n",
       "      <th>behavioral_face_mask</th>\n",
       "      <th>behavioral_wash_hands</th>\n",
       "      <th>behavioral_large_gatherings</th>\n",
       "      <th>behavioral_outside_home</th>\n",
       "      <th>behavioral_touch_face</th>\n",
       "      <th>...</th>\n",
       "      <th>income_poverty</th>\n",
       "      <th>marital_status</th>\n",
       "      <th>rent_or_own</th>\n",
       "      <th>employment_status</th>\n",
       "      <th>hhs_geo_region</th>\n",
       "      <th>census_msa</th>\n",
       "      <th>household_adults</th>\n",
       "      <th>household_children</th>\n",
       "      <th>employment_industry</th>\n",
       "      <th>employment_occupation</th>\n",
       "    </tr>\n",
       "  </thead>\n",
       "  <tbody>\n",
       "    <tr>\n",
       "      <th>0</th>\n",
       "      <td>0</td>\n",
       "      <td>1.0</td>\n",
       "      <td>0.0</td>\n",
       "      <td>0.0</td>\n",
       "      <td>0.0</td>\n",
       "      <td>0.0</td>\n",
       "      <td>0.0</td>\n",
       "      <td>0.0</td>\n",
       "      <td>1.0</td>\n",
       "      <td>1.0</td>\n",
       "      <td>...</td>\n",
       "      <td>Below Poverty</td>\n",
       "      <td>Not Married</td>\n",
       "      <td>Own</td>\n",
       "      <td>Not in Labor Force</td>\n",
       "      <td>oxchjgsf</td>\n",
       "      <td>Non-MSA</td>\n",
       "      <td>0.0</td>\n",
       "      <td>0.0</td>\n",
       "      <td>NaN</td>\n",
       "      <td>NaN</td>\n",
       "    </tr>\n",
       "    <tr>\n",
       "      <th>1</th>\n",
       "      <td>1</td>\n",
       "      <td>3.0</td>\n",
       "      <td>2.0</td>\n",
       "      <td>0.0</td>\n",
       "      <td>1.0</td>\n",
       "      <td>0.0</td>\n",
       "      <td>1.0</td>\n",
       "      <td>0.0</td>\n",
       "      <td>1.0</td>\n",
       "      <td>1.0</td>\n",
       "      <td>...</td>\n",
       "      <td>Below Poverty</td>\n",
       "      <td>Not Married</td>\n",
       "      <td>Rent</td>\n",
       "      <td>Employed</td>\n",
       "      <td>bhuqouqj</td>\n",
       "      <td>MSA, Not Principle  City</td>\n",
       "      <td>0.0</td>\n",
       "      <td>0.0</td>\n",
       "      <td>pxcmvdjn</td>\n",
       "      <td>xgwztkwe</td>\n",
       "    </tr>\n",
       "    <tr>\n",
       "      <th>2</th>\n",
       "      <td>2</td>\n",
       "      <td>1.0</td>\n",
       "      <td>1.0</td>\n",
       "      <td>0.0</td>\n",
       "      <td>1.0</td>\n",
       "      <td>0.0</td>\n",
       "      <td>0.0</td>\n",
       "      <td>0.0</td>\n",
       "      <td>0.0</td>\n",
       "      <td>0.0</td>\n",
       "      <td>...</td>\n",
       "      <td>&lt;= $75,000, Above Poverty</td>\n",
       "      <td>Not Married</td>\n",
       "      <td>Own</td>\n",
       "      <td>Employed</td>\n",
       "      <td>qufhixun</td>\n",
       "      <td>MSA, Not Principle  City</td>\n",
       "      <td>2.0</td>\n",
       "      <td>0.0</td>\n",
       "      <td>rucpziij</td>\n",
       "      <td>xtkaffoo</td>\n",
       "    </tr>\n",
       "    <tr>\n",
       "      <th>3</th>\n",
       "      <td>3</td>\n",
       "      <td>1.0</td>\n",
       "      <td>1.0</td>\n",
       "      <td>0.0</td>\n",
       "      <td>1.0</td>\n",
       "      <td>0.0</td>\n",
       "      <td>1.0</td>\n",
       "      <td>1.0</td>\n",
       "      <td>0.0</td>\n",
       "      <td>0.0</td>\n",
       "      <td>...</td>\n",
       "      <td>Below Poverty</td>\n",
       "      <td>Not Married</td>\n",
       "      <td>Rent</td>\n",
       "      <td>Not in Labor Force</td>\n",
       "      <td>lrircsnp</td>\n",
       "      <td>MSA, Principle City</td>\n",
       "      <td>0.0</td>\n",
       "      <td>0.0</td>\n",
       "      <td>NaN</td>\n",
       "      <td>NaN</td>\n",
       "    </tr>\n",
       "    <tr>\n",
       "      <th>4</th>\n",
       "      <td>4</td>\n",
       "      <td>2.0</td>\n",
       "      <td>1.0</td>\n",
       "      <td>0.0</td>\n",
       "      <td>1.0</td>\n",
       "      <td>0.0</td>\n",
       "      <td>1.0</td>\n",
       "      <td>1.0</td>\n",
       "      <td>0.0</td>\n",
       "      <td>1.0</td>\n",
       "      <td>...</td>\n",
       "      <td>&lt;= $75,000, Above Poverty</td>\n",
       "      <td>Married</td>\n",
       "      <td>Own</td>\n",
       "      <td>Employed</td>\n",
       "      <td>qufhixun</td>\n",
       "      <td>MSA, Not Principle  City</td>\n",
       "      <td>1.0</td>\n",
       "      <td>0.0</td>\n",
       "      <td>wxleyezf</td>\n",
       "      <td>emcorrxb</td>\n",
       "    </tr>\n",
       "  </tbody>\n",
       "</table>\n",
       "<p>5 rows × 36 columns</p>\n",
       "</div>"
      ],
      "text/plain": [
       "   respondent_id  h1n1_concern  h1n1_knowledge  behavioral_antiviral_meds  \\\n",
       "0              0           1.0             0.0                        0.0   \n",
       "1              1           3.0             2.0                        0.0   \n",
       "2              2           1.0             1.0                        0.0   \n",
       "3              3           1.0             1.0                        0.0   \n",
       "4              4           2.0             1.0                        0.0   \n",
       "\n",
       "   behavioral_avoidance  behavioral_face_mask  behavioral_wash_hands  \\\n",
       "0                   0.0                   0.0                    0.0   \n",
       "1                   1.0                   0.0                    1.0   \n",
       "2                   1.0                   0.0                    0.0   \n",
       "3                   1.0                   0.0                    1.0   \n",
       "4                   1.0                   0.0                    1.0   \n",
       "\n",
       "   behavioral_large_gatherings  behavioral_outside_home  \\\n",
       "0                          0.0                      1.0   \n",
       "1                          0.0                      1.0   \n",
       "2                          0.0                      0.0   \n",
       "3                          1.0                      0.0   \n",
       "4                          1.0                      0.0   \n",
       "\n",
       "   behavioral_touch_face  ...             income_poverty  marital_status  \\\n",
       "0                    1.0  ...              Below Poverty     Not Married   \n",
       "1                    1.0  ...              Below Poverty     Not Married   \n",
       "2                    0.0  ...  <= $75,000, Above Poverty     Not Married   \n",
       "3                    0.0  ...              Below Poverty     Not Married   \n",
       "4                    1.0  ...  <= $75,000, Above Poverty         Married   \n",
       "\n",
       "   rent_or_own   employment_status  hhs_geo_region                census_msa  \\\n",
       "0          Own  Not in Labor Force        oxchjgsf                   Non-MSA   \n",
       "1         Rent            Employed        bhuqouqj  MSA, Not Principle  City   \n",
       "2          Own            Employed        qufhixun  MSA, Not Principle  City   \n",
       "3         Rent  Not in Labor Force        lrircsnp       MSA, Principle City   \n",
       "4          Own            Employed        qufhixun  MSA, Not Principle  City   \n",
       "\n",
       "   household_adults  household_children  employment_industry  \\\n",
       "0               0.0                 0.0                  NaN   \n",
       "1               0.0                 0.0             pxcmvdjn   \n",
       "2               2.0                 0.0             rucpziij   \n",
       "3               0.0                 0.0                  NaN   \n",
       "4               1.0                 0.0             wxleyezf   \n",
       "\n",
       "   employment_occupation  \n",
       "0                    NaN  \n",
       "1               xgwztkwe  \n",
       "2               xtkaffoo  \n",
       "3                    NaN  \n",
       "4               emcorrxb  \n",
       "\n",
       "[5 rows x 36 columns]"
      ]
     },
     "metadata": {},
     "output_type": "display_data"
    },
    {
     "name": "stdout",
     "output_type": "stream",
     "text": [
      "Test Set Features:\n"
     ]
    },
    {
     "data": {
      "text/html": [
       "<div>\n",
       "<style scoped>\n",
       "    .dataframe tbody tr th:only-of-type {\n",
       "        vertical-align: middle;\n",
       "    }\n",
       "\n",
       "    .dataframe tbody tr th {\n",
       "        vertical-align: top;\n",
       "    }\n",
       "\n",
       "    .dataframe thead th {\n",
       "        text-align: right;\n",
       "    }\n",
       "</style>\n",
       "<table border=\"1\" class=\"dataframe\">\n",
       "  <thead>\n",
       "    <tr style=\"text-align: right;\">\n",
       "      <th></th>\n",
       "      <th>respondent_id</th>\n",
       "      <th>h1n1_concern</th>\n",
       "      <th>h1n1_knowledge</th>\n",
       "      <th>behavioral_antiviral_meds</th>\n",
       "      <th>behavioral_avoidance</th>\n",
       "      <th>behavioral_face_mask</th>\n",
       "      <th>behavioral_wash_hands</th>\n",
       "      <th>behavioral_large_gatherings</th>\n",
       "      <th>behavioral_outside_home</th>\n",
       "      <th>behavioral_touch_face</th>\n",
       "      <th>...</th>\n",
       "      <th>income_poverty</th>\n",
       "      <th>marital_status</th>\n",
       "      <th>rent_or_own</th>\n",
       "      <th>employment_status</th>\n",
       "      <th>hhs_geo_region</th>\n",
       "      <th>census_msa</th>\n",
       "      <th>household_adults</th>\n",
       "      <th>household_children</th>\n",
       "      <th>employment_industry</th>\n",
       "      <th>employment_occupation</th>\n",
       "    </tr>\n",
       "  </thead>\n",
       "  <tbody>\n",
       "    <tr>\n",
       "      <th>0</th>\n",
       "      <td>26707</td>\n",
       "      <td>2.0</td>\n",
       "      <td>2.0</td>\n",
       "      <td>0.0</td>\n",
       "      <td>1.0</td>\n",
       "      <td>0.0</td>\n",
       "      <td>1.0</td>\n",
       "      <td>1.0</td>\n",
       "      <td>0.0</td>\n",
       "      <td>1.0</td>\n",
       "      <td>...</td>\n",
       "      <td>&gt; $75,000</td>\n",
       "      <td>Not Married</td>\n",
       "      <td>Rent</td>\n",
       "      <td>Employed</td>\n",
       "      <td>mlyzmhmf</td>\n",
       "      <td>MSA, Not Principle  City</td>\n",
       "      <td>1.0</td>\n",
       "      <td>0.0</td>\n",
       "      <td>atmlpfrs</td>\n",
       "      <td>hfxkjkmi</td>\n",
       "    </tr>\n",
       "    <tr>\n",
       "      <th>1</th>\n",
       "      <td>26708</td>\n",
       "      <td>1.0</td>\n",
       "      <td>1.0</td>\n",
       "      <td>0.0</td>\n",
       "      <td>0.0</td>\n",
       "      <td>0.0</td>\n",
       "      <td>0.0</td>\n",
       "      <td>0.0</td>\n",
       "      <td>0.0</td>\n",
       "      <td>0.0</td>\n",
       "      <td>...</td>\n",
       "      <td>Below Poverty</td>\n",
       "      <td>Not Married</td>\n",
       "      <td>Rent</td>\n",
       "      <td>Employed</td>\n",
       "      <td>bhuqouqj</td>\n",
       "      <td>Non-MSA</td>\n",
       "      <td>3.0</td>\n",
       "      <td>0.0</td>\n",
       "      <td>atmlpfrs</td>\n",
       "      <td>xqwwgdyp</td>\n",
       "    </tr>\n",
       "    <tr>\n",
       "      <th>2</th>\n",
       "      <td>26709</td>\n",
       "      <td>2.0</td>\n",
       "      <td>2.0</td>\n",
       "      <td>0.0</td>\n",
       "      <td>0.0</td>\n",
       "      <td>1.0</td>\n",
       "      <td>1.0</td>\n",
       "      <td>1.0</td>\n",
       "      <td>1.0</td>\n",
       "      <td>1.0</td>\n",
       "      <td>...</td>\n",
       "      <td>&gt; $75,000</td>\n",
       "      <td>Married</td>\n",
       "      <td>Own</td>\n",
       "      <td>Employed</td>\n",
       "      <td>lrircsnp</td>\n",
       "      <td>Non-MSA</td>\n",
       "      <td>1.0</td>\n",
       "      <td>0.0</td>\n",
       "      <td>nduyfdeo</td>\n",
       "      <td>pvmttkik</td>\n",
       "    </tr>\n",
       "    <tr>\n",
       "      <th>3</th>\n",
       "      <td>26710</td>\n",
       "      <td>1.0</td>\n",
       "      <td>1.0</td>\n",
       "      <td>0.0</td>\n",
       "      <td>0.0</td>\n",
       "      <td>0.0</td>\n",
       "      <td>0.0</td>\n",
       "      <td>0.0</td>\n",
       "      <td>0.0</td>\n",
       "      <td>0.0</td>\n",
       "      <td>...</td>\n",
       "      <td>&lt;= $75,000, Above Poverty</td>\n",
       "      <td>Married</td>\n",
       "      <td>Own</td>\n",
       "      <td>Not in Labor Force</td>\n",
       "      <td>lrircsnp</td>\n",
       "      <td>MSA, Not Principle  City</td>\n",
       "      <td>1.0</td>\n",
       "      <td>0.0</td>\n",
       "      <td>NaN</td>\n",
       "      <td>NaN</td>\n",
       "    </tr>\n",
       "    <tr>\n",
       "      <th>4</th>\n",
       "      <td>26711</td>\n",
       "      <td>3.0</td>\n",
       "      <td>1.0</td>\n",
       "      <td>1.0</td>\n",
       "      <td>1.0</td>\n",
       "      <td>0.0</td>\n",
       "      <td>1.0</td>\n",
       "      <td>1.0</td>\n",
       "      <td>1.0</td>\n",
       "      <td>1.0</td>\n",
       "      <td>...</td>\n",
       "      <td>&lt;= $75,000, Above Poverty</td>\n",
       "      <td>Not Married</td>\n",
       "      <td>Own</td>\n",
       "      <td>Employed</td>\n",
       "      <td>lzgpxyit</td>\n",
       "      <td>Non-MSA</td>\n",
       "      <td>0.0</td>\n",
       "      <td>1.0</td>\n",
       "      <td>fcxhlnwr</td>\n",
       "      <td>mxkfnird</td>\n",
       "    </tr>\n",
       "  </tbody>\n",
       "</table>\n",
       "<p>5 rows × 36 columns</p>\n",
       "</div>"
      ],
      "text/plain": [
       "   respondent_id  h1n1_concern  h1n1_knowledge  behavioral_antiviral_meds  \\\n",
       "0          26707           2.0             2.0                        0.0   \n",
       "1          26708           1.0             1.0                        0.0   \n",
       "2          26709           2.0             2.0                        0.0   \n",
       "3          26710           1.0             1.0                        0.0   \n",
       "4          26711           3.0             1.0                        1.0   \n",
       "\n",
       "   behavioral_avoidance  behavioral_face_mask  behavioral_wash_hands  \\\n",
       "0                   1.0                   0.0                    1.0   \n",
       "1                   0.0                   0.0                    0.0   \n",
       "2                   0.0                   1.0                    1.0   \n",
       "3                   0.0                   0.0                    0.0   \n",
       "4                   1.0                   0.0                    1.0   \n",
       "\n",
       "   behavioral_large_gatherings  behavioral_outside_home  \\\n",
       "0                          1.0                      0.0   \n",
       "1                          0.0                      0.0   \n",
       "2                          1.0                      1.0   \n",
       "3                          0.0                      0.0   \n",
       "4                          1.0                      1.0   \n",
       "\n",
       "   behavioral_touch_face  ...             income_poverty  marital_status  \\\n",
       "0                    1.0  ...                  > $75,000     Not Married   \n",
       "1                    0.0  ...              Below Poverty     Not Married   \n",
       "2                    1.0  ...                  > $75,000         Married   \n",
       "3                    0.0  ...  <= $75,000, Above Poverty         Married   \n",
       "4                    1.0  ...  <= $75,000, Above Poverty     Not Married   \n",
       "\n",
       "   rent_or_own   employment_status  hhs_geo_region                census_msa  \\\n",
       "0         Rent            Employed        mlyzmhmf  MSA, Not Principle  City   \n",
       "1         Rent            Employed        bhuqouqj                   Non-MSA   \n",
       "2          Own            Employed        lrircsnp                   Non-MSA   \n",
       "3          Own  Not in Labor Force        lrircsnp  MSA, Not Principle  City   \n",
       "4          Own            Employed        lzgpxyit                   Non-MSA   \n",
       "\n",
       "   household_adults  household_children  employment_industry  \\\n",
       "0               1.0                 0.0             atmlpfrs   \n",
       "1               3.0                 0.0             atmlpfrs   \n",
       "2               1.0                 0.0             nduyfdeo   \n",
       "3               1.0                 0.0                  NaN   \n",
       "4               0.0                 1.0             fcxhlnwr   \n",
       "\n",
       "   employment_occupation  \n",
       "0               hfxkjkmi  \n",
       "1               xqwwgdyp  \n",
       "2               pvmttkik  \n",
       "3                    NaN  \n",
       "4               mxkfnird  \n",
       "\n",
       "[5 rows x 36 columns]"
      ]
     },
     "metadata": {},
     "output_type": "display_data"
    }
   ],
   "source": [
    "training_set_labels = pd.read_csv(r'.\\Data\\training_set_labels.csv')\n",
    "training_set_features = pd.read_csv(r'.\\Data\\training_set_features.csv')\n",
    "test_set_features = pd.read_csv(r'.\\Data\\test_set_features.csv')\n",
    "\n",
    "print ('Training Set Labels:')\n",
    "display (training_set_labels.head())\n",
    "\n",
    "print ('Training Set Features:')\n",
    "display (training_set_features.head())\n",
    "\n",
    "print ('Test Set Features:')\n",
    "display (test_set_features.head())"
   ]
  },
  {
   "cell_type": "markdown",
   "metadata": {},
   "source": [
    "merge the training_set_labels with both the training_set_features and the test_set_features."
   ]
  },
  {
   "cell_type": "code",
   "execution_count": 3,
   "metadata": {},
   "outputs": [],
   "source": [
    "# Merge training_set_labels.csv with training_set_features\n",
    "training_set_df = pd.merge(training_set_labels, training_set_features, on='respondent_id', how='inner')\n",
    "\n",
    "# Add training_set_labels with test_set_features\n",
    "test_set_df = pd.concat([training_set_labels, test_set_features], axis=1)"
   ]
  },
  {
   "cell_type": "markdown",
   "metadata": {},
   "source": [
    "**2. Exploratory Data Analysis**\n",
    "\n",
    "Examine the training_set_df, to get a better understanding of its structure and content."
   ]
  },
  {
   "cell_type": "code",
   "execution_count": 4,
   "metadata": {},
   "outputs": [
    {
     "data": {
      "text/plain": [
       "(26707, 38)"
      ]
     },
     "execution_count": 4,
     "metadata": {},
     "output_type": "execute_result"
    }
   ],
   "source": [
    "training_set_df.shape"
   ]
  },
  {
   "cell_type": "markdown",
   "metadata": {},
   "source": [
    "The training_set_df has 26707 rows and 38 columns."
   ]
  },
  {
   "cell_type": "code",
   "execution_count": 5,
   "metadata": {},
   "outputs": [
    {
     "name": "stdout",
     "output_type": "stream",
     "text": [
      "<class 'pandas.core.frame.DataFrame'>\n",
      "RangeIndex: 26707 entries, 0 to 26706\n",
      "Data columns (total 38 columns):\n",
      " #   Column                       Non-Null Count  Dtype  \n",
      "---  ------                       --------------  -----  \n",
      " 0   respondent_id                26707 non-null  int64  \n",
      " 1   h1n1_vaccine                 26707 non-null  int64  \n",
      " 2   seasonal_vaccine             26707 non-null  int64  \n",
      " 3   h1n1_concern                 26615 non-null  float64\n",
      " 4   h1n1_knowledge               26591 non-null  float64\n",
      " 5   behavioral_antiviral_meds    26636 non-null  float64\n",
      " 6   behavioral_avoidance         26499 non-null  float64\n",
      " 7   behavioral_face_mask         26688 non-null  float64\n",
      " 8   behavioral_wash_hands        26665 non-null  float64\n",
      " 9   behavioral_large_gatherings  26620 non-null  float64\n",
      " 10  behavioral_outside_home      26625 non-null  float64\n",
      " 11  behavioral_touch_face        26579 non-null  float64\n",
      " 12  doctor_recc_h1n1             24547 non-null  float64\n",
      " 13  doctor_recc_seasonal         24547 non-null  float64\n",
      " 14  chronic_med_condition        25736 non-null  float64\n",
      " 15  child_under_6_months         25887 non-null  float64\n",
      " 16  health_worker                25903 non-null  float64\n",
      " 17  health_insurance             14433 non-null  float64\n",
      " 18  opinion_h1n1_vacc_effective  26316 non-null  float64\n",
      " 19  opinion_h1n1_risk            26319 non-null  float64\n",
      " 20  opinion_h1n1_sick_from_vacc  26312 non-null  float64\n",
      " 21  opinion_seas_vacc_effective  26245 non-null  float64\n",
      " 22  opinion_seas_risk            26193 non-null  float64\n",
      " 23  opinion_seas_sick_from_vacc  26170 non-null  float64\n",
      " 24  age_group                    26707 non-null  object \n",
      " 25  education                    25300 non-null  object \n",
      " 26  race                         26707 non-null  object \n",
      " 27  sex                          26707 non-null  object \n",
      " 28  income_poverty               22284 non-null  object \n",
      " 29  marital_status               25299 non-null  object \n",
      " 30  rent_or_own                  24665 non-null  object \n",
      " 31  employment_status            25244 non-null  object \n",
      " 32  hhs_geo_region               26707 non-null  object \n",
      " 33  census_msa                   26707 non-null  object \n",
      " 34  household_adults             26458 non-null  float64\n",
      " 35  household_children           26458 non-null  float64\n",
      " 36  employment_industry          13377 non-null  object \n",
      " 37  employment_occupation        13237 non-null  object \n",
      "dtypes: float64(23), int64(3), object(12)\n",
      "memory usage: 7.7+ MB\n"
     ]
    }
   ],
   "source": [
    "training_set_df.info()"
   ]
  },
  {
   "cell_type": "markdown",
   "metadata": {},
   "source": [
    "Check the types of variables associated with the columns of dtype object ..."
   ]
  },
  {
   "cell_type": "code",
   "execution_count": 6,
   "metadata": {},
   "outputs": [
    {
     "data": {
      "text/plain": [
       "age_group                 5\n",
       "education                 4\n",
       "race                      4\n",
       "sex                       2\n",
       "income_poverty            3\n",
       "marital_status            2\n",
       "rent_or_own               2\n",
       "employment_status         3\n",
       "hhs_geo_region           10\n",
       "census_msa                3\n",
       "employment_industry      21\n",
       "employment_occupation    23\n",
       "dtype: int64"
      ]
     },
     "execution_count": 6,
     "metadata": {},
     "output_type": "execute_result"
    }
   ],
   "source": [
    "# Find categorical variables with dtype object\n",
    "categorical = [var for var in training_set_df.columns if training_set_df[var].dtype == 'O']\n",
    "\n",
    "training_set_df[categorical].nunique()"
   ]
  },
  {
   "cell_type": "markdown",
   "metadata": {},
   "source": [
    "All columns with dtype object are categorical variables, namely:\n",
    "\n",
    "    - age_group\n",
    "    - education\n",
    "    - race\n",
    "    - sex\n",
    "    - income_poverty\n",
    "    - marital_status\n",
    "    - rent_or_own\n",
    "    - employment_status\n",
    "    - hhs_geo_region\n",
    "    - census_msa\n",
    "    - employment_industry\n",
    "    - employment_occupation"
   ]
  },
  {
   "cell_type": "markdown",
   "metadata": {},
   "source": [
    "**3. Data Cleaning**"
   ]
  },
  {
   "cell_type": "markdown",
   "metadata": {},
   "source": [
    "Given the nature of this project, the following columns will be dropped due to their lack of sufficient relevance:\n",
    "\n",
    "    - employment_industry\n",
    "    - employment_occupation\n",
    "    - rent_or_own"
   ]
  },
  {
   "cell_type": "code",
   "execution_count": 7,
   "metadata": {},
   "outputs": [
    {
     "data": {
      "text/plain": [
       "Index(['age_group', 'education', 'race', 'sex', 'income_poverty',\n",
       "       'marital_status', 'employment_status', 'hhs_geo_region', 'census_msa'],\n",
       "      dtype='object')"
      ]
     },
     "execution_count": 7,
     "metadata": {},
     "output_type": "execute_result"
    }
   ],
   "source": [
    "# Drop the three columns\n",
    "training_set_df = training_set_df.drop(columns=['employment_industry', 'employment_occupation', 'rent_or_own'])\n",
    "\n",
    "categorical = [var for var in training_set_df.columns if training_set_df[var].dtype == 'O']\n",
    "\n",
    "training_set_df[categorical].columns"
   ]
  },
  {
   "cell_type": "markdown",
   "metadata": {},
   "source": [
    "Check for null values in the categorical columns with dtype object ..."
   ]
  },
  {
   "cell_type": "code",
   "execution_count": 8,
   "metadata": {},
   "outputs": [
    {
     "data": {
      "text/plain": [
       "age_group               0\n",
       "education            1407\n",
       "race                    0\n",
       "sex                     0\n",
       "income_poverty       4423\n",
       "marital_status       1408\n",
       "employment_status    1463\n",
       "hhs_geo_region          0\n",
       "census_msa              0\n",
       "dtype: int64"
      ]
     },
     "execution_count": 8,
     "metadata": {},
     "output_type": "execute_result"
    }
   ],
   "source": [
    "training_set_df[categorical].isna().sum()"
   ]
  },
  {
   "cell_type": "markdown",
   "metadata": {},
   "source": [
    "four columns have missing data. Check the frequency distribution in training_set_df to decide how to handle the null values ..."
   ]
  },
  {
   "cell_type": "code",
   "execution_count": 9,
   "metadata": {},
   "outputs": [
    {
     "name": "stdout",
     "output_type": "stream",
     "text": [
      "respondent_id\n",
      "0        0.000037\n",
      "17736    0.000037\n",
      "17812    0.000037\n",
      "17811    0.000037\n",
      "17810    0.000037\n",
      "           ...   \n",
      "8898     0.000037\n",
      "8897     0.000037\n",
      "8896     0.000037\n",
      "8895     0.000037\n",
      "26706    0.000037\n",
      "Name: count, Length: 26707, dtype: float64\n",
      "h1n1_vaccine\n",
      "0    0.787546\n",
      "1    0.212454\n",
      "Name: count, dtype: float64\n",
      "seasonal_vaccine\n",
      "0    0.534392\n",
      "1    0.465608\n",
      "Name: count, dtype: float64\n",
      "h1n1_concern\n",
      "2.0    0.395964\n",
      "1.0    0.305276\n",
      "3.0    0.171902\n",
      "0.0    0.123413\n",
      "Name: count, dtype: float64\n",
      "h1n1_knowledge\n",
      "1.0    0.546598\n",
      "2.0    0.355225\n",
      "0.0    0.093833\n",
      "Name: count, dtype: float64\n",
      "behavioral_antiviral_meds\n",
      "0.0    0.948628\n",
      "1.0    0.048714\n",
      "Name: count, dtype: float64\n",
      "behavioral_avoidance\n",
      "1.0    0.719961\n",
      "0.0    0.272251\n",
      "Name: count, dtype: float64\n",
      "behavioral_face_mask\n",
      "0.0    0.930355\n",
      "1.0    0.068933\n",
      "Name: count, dtype: float64\n",
      "behavioral_wash_hands\n",
      "1.0    0.824316\n",
      "0.0    0.174112\n",
      "Name: count, dtype: float64\n",
      "behavioral_large_gatherings\n",
      "0.0    0.639271\n",
      "1.0    0.357472\n",
      "Name: count, dtype: float64\n",
      "behavioral_outside_home\n",
      "0.0    0.660651\n",
      "1.0    0.336279\n",
      "Name: count, dtype: float64\n",
      "behavioral_touch_face\n",
      "1.0    0.674018\n",
      "0.0    0.321189\n",
      "Name: count, dtype: float64\n",
      "doctor_recc_h1n1\n",
      "0.0    0.716629\n",
      "1.0    0.202494\n",
      "Name: count, dtype: float64\n",
      "doctor_recc_seasonal\n",
      "0.0    0.616056\n",
      "1.0    0.303067\n",
      "Name: count, dtype: float64\n",
      "chronic_med_condition\n",
      "0.0    0.690680\n",
      "1.0    0.272962\n",
      "Name: count, dtype: float64\n",
      "child_under_6_months\n",
      "0.0    0.889243\n",
      "1.0    0.080054\n",
      "Name: count, dtype: float64\n",
      "health_worker\n",
      "0.0    0.861347\n",
      "1.0    0.108548\n",
      "Name: count, dtype: float64\n",
      "health_insurance\n",
      "1.0    0.475418\n",
      "0.0    0.065002\n",
      "Name: count, dtype: float64\n",
      "opinion_h1n1_vacc_effective\n",
      "4.0    0.437451\n",
      "5.0    0.268319\n",
      "3.0    0.176845\n",
      "2.0    0.069570\n",
      "1.0    0.033175\n",
      "Name: count, dtype: float64\n",
      "opinion_h1n1_risk\n",
      "2.0    0.371401\n",
      "1.0    0.304752\n",
      "4.0    0.201970\n",
      "5.0    0.065526\n",
      "3.0    0.041824\n",
      "Name: count, dtype: float64\n",
      "opinion_h1n1_sick_from_vacc\n",
      "2.0    0.341820\n",
      "1.0    0.336915\n",
      "4.0    0.219044\n",
      "5.0    0.081889\n",
      "3.0    0.005542\n",
      "Name: count, dtype: float64\n",
      "opinion_seas_vacc_effective\n",
      "4.0    0.435429\n",
      "5.0    0.373423\n",
      "2.0    0.082600\n",
      "1.0    0.045718\n",
      "3.0    0.045531\n",
      "Name: count, dtype: float64\n",
      "opinion_seas_risk\n",
      "2.0    0.335268\n",
      "4.0    0.285693\n",
      "1.0    0.223687\n",
      "5.0    0.110757\n",
      "3.0    0.025349\n",
      "Name: count, dtype: float64\n",
      "opinion_seas_sick_from_vacc\n",
      "1.0    0.444453\n",
      "2.0    0.285805\n",
      "4.0    0.181675\n",
      "5.0    0.064440\n",
      "3.0    0.003520\n",
      "Name: count, dtype: float64\n",
      "age_group\n",
      "65+ Years        0.256225\n",
      "55 - 64 Years    0.208297\n",
      "45 - 54 Years    0.196128\n",
      "18 - 34 Years    0.195267\n",
      "35 - 44 Years    0.144082\n",
      "Name: count, dtype: float64\n",
      "education\n",
      "College Graduate    0.378066\n",
      "Some College        0.263714\n",
      "12 Years            0.217059\n",
      "< 12 Years          0.088479\n",
      "Name: count, dtype: float64\n",
      "race\n",
      "White                0.794623\n",
      "Black                0.079305\n",
      "Hispanic             0.065713\n",
      "Other or Multiple    0.060359\n",
      "Name: count, dtype: float64\n",
      "sex\n",
      "Female    0.593777\n",
      "Male      0.406223\n",
      "Name: count, dtype: float64\n",
      "income_poverty\n",
      "<= $75,000, Above Poverty    0.478414\n",
      "> $75,000                    0.254989\n",
      "Below Poverty                0.100985\n",
      "Name: count, dtype: float64\n",
      "marital_status\n",
      "Married        0.507545\n",
      "Not Married    0.439735\n",
      "Name: count, dtype: float64\n",
      "employment_status\n",
      "Employed              0.507732\n",
      "Not in Labor Force    0.383083\n",
      "Unemployed            0.054405\n",
      "Name: count, dtype: float64\n",
      "hhs_geo_region\n",
      "lzgpxyit    0.160894\n",
      "fpwskwrf    0.122253\n",
      "qufhixun    0.116149\n",
      "oxchjgsf    0.107051\n",
      "kbazzjca    0.107013\n",
      "bhuqouqj    0.106564\n",
      "mlyzmhmf    0.083985\n",
      "lrircsnp    0.077807\n",
      "atmpeygn    0.076122\n",
      "dqpwygqj    0.042161\n",
      "Name: count, dtype: float64\n",
      "census_msa\n",
      "MSA, Not Principle  City    0.436028\n",
      "MSA, Principle City         0.294455\n",
      "Non-MSA                     0.269517\n",
      "Name: count, dtype: float64\n",
      "household_adults\n",
      "1.0    0.541955\n",
      "0.0    0.301644\n",
      "2.0    0.104954\n",
      "3.0    0.042124\n",
      "Name: count, dtype: float64\n",
      "household_children\n",
      "0.0    0.699143\n",
      "1.0    0.118883\n",
      "2.0    0.107238\n",
      "3.0    0.065414\n",
      "Name: count, dtype: float64\n"
     ]
    }
   ],
   "source": [
    "import numpy as np \n",
    "for var in training_set_df: \n",
    "    \n",
    "    print(training_set_df[var].value_counts()/np.float64(len(training_set_df)))"
   ]
  },
  {
   "cell_type": "markdown",
   "metadata": {},
   "source": [
    "The frequency distribution of the null value columns is mainly uniform. Since these are categorical variables, use OHE to handle the null values."
   ]
  },
  {
   "cell_type": "markdown",
   "metadata": {},
   "source": [
    "**4. One Hot Encoding (OHE)**"
   ]
  },
  {
   "cell_type": "code",
   "execution_count": 10,
   "metadata": {},
   "outputs": [
    {
     "data": {
      "text/html": [
       "<div>\n",
       "<style scoped>\n",
       "    .dataframe tbody tr th:only-of-type {\n",
       "        vertical-align: middle;\n",
       "    }\n",
       "\n",
       "    .dataframe tbody tr th {\n",
       "        vertical-align: top;\n",
       "    }\n",
       "\n",
       "    .dataframe thead th {\n",
       "        text-align: right;\n",
       "    }\n",
       "</style>\n",
       "<table border=\"1\" class=\"dataframe\">\n",
       "  <thead>\n",
       "    <tr style=\"text-align: right;\">\n",
       "      <th></th>\n",
       "      <th>age_group_35 - 44 Years</th>\n",
       "      <th>age_group_45 - 54 Years</th>\n",
       "      <th>age_group_55 - 64 Years</th>\n",
       "      <th>age_group_65+ Years</th>\n",
       "      <th>education_&lt; 12 Years</th>\n",
       "      <th>education_College Graduate</th>\n",
       "      <th>education_Some College</th>\n",
       "      <th>education_nan</th>\n",
       "      <th>race_Hispanic</th>\n",
       "      <th>race_Other or Multiple</th>\n",
       "      <th>...</th>\n",
       "      <th>hhs_geo_region_dqpwygqj</th>\n",
       "      <th>hhs_geo_region_fpwskwrf</th>\n",
       "      <th>hhs_geo_region_kbazzjca</th>\n",
       "      <th>hhs_geo_region_lrircsnp</th>\n",
       "      <th>hhs_geo_region_lzgpxyit</th>\n",
       "      <th>hhs_geo_region_mlyzmhmf</th>\n",
       "      <th>hhs_geo_region_oxchjgsf</th>\n",
       "      <th>hhs_geo_region_qufhixun</th>\n",
       "      <th>census_msa_MSA, Principle City</th>\n",
       "      <th>census_msa_Non-MSA</th>\n",
       "    </tr>\n",
       "  </thead>\n",
       "  <tbody>\n",
       "    <tr>\n",
       "      <th>0</th>\n",
       "      <td>0</td>\n",
       "      <td>0</td>\n",
       "      <td>1</td>\n",
       "      <td>0</td>\n",
       "      <td>1</td>\n",
       "      <td>0</td>\n",
       "      <td>0</td>\n",
       "      <td>0</td>\n",
       "      <td>0</td>\n",
       "      <td>0</td>\n",
       "      <td>...</td>\n",
       "      <td>0</td>\n",
       "      <td>0</td>\n",
       "      <td>0</td>\n",
       "      <td>0</td>\n",
       "      <td>0</td>\n",
       "      <td>0</td>\n",
       "      <td>1</td>\n",
       "      <td>0</td>\n",
       "      <td>0</td>\n",
       "      <td>1</td>\n",
       "    </tr>\n",
       "    <tr>\n",
       "      <th>1</th>\n",
       "      <td>1</td>\n",
       "      <td>0</td>\n",
       "      <td>0</td>\n",
       "      <td>0</td>\n",
       "      <td>0</td>\n",
       "      <td>0</td>\n",
       "      <td>0</td>\n",
       "      <td>0</td>\n",
       "      <td>0</td>\n",
       "      <td>0</td>\n",
       "      <td>...</td>\n",
       "      <td>0</td>\n",
       "      <td>0</td>\n",
       "      <td>0</td>\n",
       "      <td>0</td>\n",
       "      <td>0</td>\n",
       "      <td>0</td>\n",
       "      <td>0</td>\n",
       "      <td>0</td>\n",
       "      <td>0</td>\n",
       "      <td>0</td>\n",
       "    </tr>\n",
       "    <tr>\n",
       "      <th>2</th>\n",
       "      <td>0</td>\n",
       "      <td>0</td>\n",
       "      <td>0</td>\n",
       "      <td>0</td>\n",
       "      <td>0</td>\n",
       "      <td>1</td>\n",
       "      <td>0</td>\n",
       "      <td>0</td>\n",
       "      <td>0</td>\n",
       "      <td>0</td>\n",
       "      <td>...</td>\n",
       "      <td>0</td>\n",
       "      <td>0</td>\n",
       "      <td>0</td>\n",
       "      <td>0</td>\n",
       "      <td>0</td>\n",
       "      <td>0</td>\n",
       "      <td>0</td>\n",
       "      <td>1</td>\n",
       "      <td>0</td>\n",
       "      <td>0</td>\n",
       "    </tr>\n",
       "    <tr>\n",
       "      <th>3</th>\n",
       "      <td>0</td>\n",
       "      <td>0</td>\n",
       "      <td>0</td>\n",
       "      <td>1</td>\n",
       "      <td>0</td>\n",
       "      <td>0</td>\n",
       "      <td>0</td>\n",
       "      <td>0</td>\n",
       "      <td>0</td>\n",
       "      <td>0</td>\n",
       "      <td>...</td>\n",
       "      <td>0</td>\n",
       "      <td>0</td>\n",
       "      <td>0</td>\n",
       "      <td>1</td>\n",
       "      <td>0</td>\n",
       "      <td>0</td>\n",
       "      <td>0</td>\n",
       "      <td>0</td>\n",
       "      <td>1</td>\n",
       "      <td>0</td>\n",
       "    </tr>\n",
       "    <tr>\n",
       "      <th>4</th>\n",
       "      <td>0</td>\n",
       "      <td>1</td>\n",
       "      <td>0</td>\n",
       "      <td>0</td>\n",
       "      <td>0</td>\n",
       "      <td>0</td>\n",
       "      <td>1</td>\n",
       "      <td>0</td>\n",
       "      <td>0</td>\n",
       "      <td>0</td>\n",
       "      <td>...</td>\n",
       "      <td>0</td>\n",
       "      <td>0</td>\n",
       "      <td>0</td>\n",
       "      <td>0</td>\n",
       "      <td>0</td>\n",
       "      <td>0</td>\n",
       "      <td>0</td>\n",
       "      <td>1</td>\n",
       "      <td>0</td>\n",
       "      <td>0</td>\n",
       "    </tr>\n",
       "  </tbody>\n",
       "</table>\n",
       "<p>5 rows × 31 columns</p>\n",
       "</div>"
      ],
      "text/plain": [
       "   age_group_35 - 44 Years  age_group_45 - 54 Years  age_group_55 - 64 Years  \\\n",
       "0                        0                        0                        1   \n",
       "1                        1                        0                        0   \n",
       "2                        0                        0                        0   \n",
       "3                        0                        0                        0   \n",
       "4                        0                        1                        0   \n",
       "\n",
       "   age_group_65+ Years  education_< 12 Years  education_College Graduate  \\\n",
       "0                    0                     1                           0   \n",
       "1                    0                     0                           0   \n",
       "2                    0                     0                           1   \n",
       "3                    1                     0                           0   \n",
       "4                    0                     0                           0   \n",
       "\n",
       "   education_Some College  education_nan  race_Hispanic  \\\n",
       "0                       0              0              0   \n",
       "1                       0              0              0   \n",
       "2                       0              0              0   \n",
       "3                       0              0              0   \n",
       "4                       1              0              0   \n",
       "\n",
       "   race_Other or Multiple  ...  hhs_geo_region_dqpwygqj  \\\n",
       "0                       0  ...                        0   \n",
       "1                       0  ...                        0   \n",
       "2                       0  ...                        0   \n",
       "3                       0  ...                        0   \n",
       "4                       0  ...                        0   \n",
       "\n",
       "   hhs_geo_region_fpwskwrf  hhs_geo_region_kbazzjca  hhs_geo_region_lrircsnp  \\\n",
       "0                        0                        0                        0   \n",
       "1                        0                        0                        0   \n",
       "2                        0                        0                        0   \n",
       "3                        0                        0                        1   \n",
       "4                        0                        0                        0   \n",
       "\n",
       "   hhs_geo_region_lzgpxyit  hhs_geo_region_mlyzmhmf  hhs_geo_region_oxchjgsf  \\\n",
       "0                        0                        0                        1   \n",
       "1                        0                        0                        0   \n",
       "2                        0                        0                        0   \n",
       "3                        0                        0                        0   \n",
       "4                        0                        0                        0   \n",
       "\n",
       "   hhs_geo_region_qufhixun  census_msa_MSA, Principle City  census_msa_Non-MSA  \n",
       "0                        0                               0                   1  \n",
       "1                        0                               0                   0  \n",
       "2                        1                               0                   0  \n",
       "3                        0                               1                   0  \n",
       "4                        1                               0                   0  \n",
       "\n",
       "[5 rows x 31 columns]"
      ]
     },
     "execution_count": 10,
     "metadata": {},
     "output_type": "execute_result"
    }
   ],
   "source": [
    "# OHE for all categorical columns, add additional columns for missing data\n",
    "training_set_categorical = pd.get_dummies(training_set_df[categorical], drop_first= True, dummy_na= True, dtype= int)\n",
    "\n",
    "# Drop columns where nans=0\n",
    "training_set_categorical = training_set_categorical.loc[:, (training_set_categorical != 0).any(axis=0)]\n",
    "\n",
    "training_set_categorical.head()"
   ]
  },
  {
   "cell_type": "code",
   "execution_count": 11,
   "metadata": {},
   "outputs": [
    {
     "data": {
      "text/plain": [
       "(26707, 31)"
      ]
     },
     "execution_count": 11,
     "metadata": {},
     "output_type": "execute_result"
    }
   ],
   "source": [
    "training_set_categorical.shape"
   ]
  },
  {
   "cell_type": "markdown",
   "metadata": {},
   "source": [
    "After the OHE process, the categorical data frame, which initially had dtype object has been converted into binary, and the training_set_df now has a total of 31 columns.\n",
    "\n",
    "Check for null to verify that all null values were filled."
   ]
  },
  {
   "cell_type": "code",
   "execution_count": 12,
   "metadata": {},
   "outputs": [
    {
     "data": {
      "text/plain": [
       "age_group_35 - 44 Years                 0\n",
       "age_group_45 - 54 Years                 0\n",
       "age_group_55 - 64 Years                 0\n",
       "age_group_65+ Years                     0\n",
       "education_< 12 Years                    0\n",
       "education_College Graduate              0\n",
       "education_Some College                  0\n",
       "education_nan                           0\n",
       "race_Hispanic                           0\n",
       "race_Other or Multiple                  0\n",
       "race_White                              0\n",
       "sex_Male                                0\n",
       "income_poverty_> $75,000                0\n",
       "income_poverty_Below Poverty            0\n",
       "income_poverty_nan                      0\n",
       "marital_status_Not Married              0\n",
       "marital_status_nan                      0\n",
       "employment_status_Not in Labor Force    0\n",
       "employment_status_Unemployed            0\n",
       "employment_status_nan                   0\n",
       "hhs_geo_region_bhuqouqj                 0\n",
       "hhs_geo_region_dqpwygqj                 0\n",
       "hhs_geo_region_fpwskwrf                 0\n",
       "hhs_geo_region_kbazzjca                 0\n",
       "hhs_geo_region_lrircsnp                 0\n",
       "hhs_geo_region_lzgpxyit                 0\n",
       "hhs_geo_region_mlyzmhmf                 0\n",
       "hhs_geo_region_oxchjgsf                 0\n",
       "hhs_geo_region_qufhixun                 0\n",
       "census_msa_MSA, Principle City          0\n",
       "census_msa_Non-MSA                      0\n",
       "dtype: int64"
      ]
     },
     "execution_count": 12,
     "metadata": {},
     "output_type": "execute_result"
    }
   ],
   "source": [
    "training_set_categorical.isna().sum()"
   ]
  },
  {
   "cell_type": "markdown",
   "metadata": {},
   "source": [
    "Move to columns with dtype int in training_set_df and check the types of variables associated with these columns ..."
   ]
  },
  {
   "cell_type": "code",
   "execution_count": 13,
   "metadata": {},
   "outputs": [
    {
     "data": {
      "text/plain": [
       "respondent_id                  26707\n",
       "h1n1_vaccine                       2\n",
       "seasonal_vaccine                   2\n",
       "h1n1_concern                       4\n",
       "h1n1_knowledge                     3\n",
       "behavioral_antiviral_meds          2\n",
       "behavioral_avoidance               2\n",
       "behavioral_face_mask               2\n",
       "behavioral_wash_hands              2\n",
       "behavioral_large_gatherings        2\n",
       "behavioral_outside_home            2\n",
       "behavioral_touch_face              2\n",
       "doctor_recc_h1n1                   2\n",
       "doctor_recc_seasonal               2\n",
       "chronic_med_condition              2\n",
       "child_under_6_months               2\n",
       "health_worker                      2\n",
       "health_insurance                   2\n",
       "opinion_h1n1_vacc_effective        5\n",
       "opinion_h1n1_risk                  5\n",
       "opinion_h1n1_sick_from_vacc        5\n",
       "opinion_seas_vacc_effective        5\n",
       "opinion_seas_risk                  5\n",
       "opinion_seas_sick_from_vacc        5\n",
       "household_adults                   4\n",
       "household_children                 4\n",
       "dtype: int64"
      ]
     },
     "execution_count": 13,
     "metadata": {},
     "output_type": "execute_result"
    }
   ],
   "source": [
    "training_set_numeric = training_set_df.select_dtypes(include= 'number')\n",
    "training_set_numeric.nunique()"
   ]
  },
  {
   "cell_type": "markdown",
   "metadata": {},
   "source": [
    "these variables are all categorical, with several binary variables. Drop the respondent_id column, as it is a unique identifier, and check for null values ..."
   ]
  },
  {
   "cell_type": "code",
   "execution_count": 14,
   "metadata": {},
   "outputs": [
    {
     "data": {
      "text/plain": [
       "h1n1_vaccine                       0\n",
       "seasonal_vaccine                   0\n",
       "h1n1_concern                      92\n",
       "h1n1_knowledge                   116\n",
       "behavioral_antiviral_meds         71\n",
       "behavioral_avoidance             208\n",
       "behavioral_face_mask              19\n",
       "behavioral_wash_hands             42\n",
       "behavioral_large_gatherings       87\n",
       "behavioral_outside_home           82\n",
       "behavioral_touch_face            128\n",
       "doctor_recc_h1n1                2160\n",
       "doctor_recc_seasonal            2160\n",
       "chronic_med_condition            971\n",
       "child_under_6_months             820\n",
       "health_worker                    804\n",
       "health_insurance               12274\n",
       "opinion_h1n1_vacc_effective      391\n",
       "opinion_h1n1_risk                388\n",
       "opinion_h1n1_sick_from_vacc      395\n",
       "opinion_seas_vacc_effective      462\n",
       "opinion_seas_risk                514\n",
       "opinion_seas_sick_from_vacc      537\n",
       "household_adults                 249\n",
       "household_children               249\n",
       "dtype: int64"
      ]
     },
     "execution_count": 14,
     "metadata": {},
     "output_type": "execute_result"
    }
   ],
   "source": [
    "# Drop id column\n",
    "training_set_numeric = training_set_numeric.drop(columns=['respondent_id'])\n",
    "\n",
    "training_set_numeric.isna().sum()"
   ]
  },
  {
   "cell_type": "markdown",
   "metadata": {},
   "source": [
    "these null values will mostly be filled during the OHE process. However, to reduce the number of columns after OHE, columns with null values < 200 will be filled with the modal value."
   ]
  },
  {
   "cell_type": "code",
   "execution_count": 15,
   "metadata": {},
   "outputs": [
    {
     "data": {
      "text/plain": [
       "h1n1_vaccine                       0\n",
       "seasonal_vaccine                   0\n",
       "h1n1_concern                       0\n",
       "h1n1_knowledge                     0\n",
       "behavioral_antiviral_meds          0\n",
       "behavioral_avoidance             208\n",
       "behavioral_face_mask               0\n",
       "behavioral_wash_hands              0\n",
       "behavioral_large_gatherings        0\n",
       "behavioral_outside_home            0\n",
       "behavioral_touch_face              0\n",
       "doctor_recc_h1n1                2160\n",
       "doctor_recc_seasonal            2160\n",
       "chronic_med_condition            971\n",
       "child_under_6_months             820\n",
       "health_worker                    804\n",
       "health_insurance               12274\n",
       "opinion_h1n1_vacc_effective      391\n",
       "opinion_h1n1_risk                388\n",
       "opinion_h1n1_sick_from_vacc      395\n",
       "opinion_seas_vacc_effective      462\n",
       "opinion_seas_risk                514\n",
       "opinion_seas_sick_from_vacc      537\n",
       "household_adults                 249\n",
       "household_children               249\n",
       "dtype: int64"
      ]
     },
     "execution_count": 15,
     "metadata": {},
     "output_type": "execute_result"
    }
   ],
   "source": [
    "# Identify columns with na < 200\n",
    "def fill_na_less_200(column):\n",
    "    if column.isna().sum() < 200:\n",
    "        modal_value = column.mode()[0]\n",
    "        return column.fillna(modal_value)\n",
    "    return column\n",
    "\n",
    "# Fill na with mode\n",
    "training_set_numeric = training_set_numeric.apply(fill_na_less_200)\n",
    "training_set_numeric.isna().sum()"
   ]
  },
  {
   "cell_type": "markdown",
   "metadata": {},
   "source": [
    "ohe the remaining null values ... "
   ]
  },
  {
   "cell_type": "code",
   "execution_count": 16,
   "metadata": {},
   "outputs": [
    {
     "data": {
      "text/plain": [
       "h1n1_vaccine_1            2\n",
       "seasonal_vaccine_1        2\n",
       "h1n1_concern_1.0          2\n",
       "h1n1_concern_2.0          2\n",
       "h1n1_concern_3.0          2\n",
       "                         ..\n",
       "household_adults_nan      2\n",
       "household_children_1.0    2\n",
       "household_children_2.0    2\n",
       "household_children_3.0    2\n",
       "household_children_nan    2\n",
       "Length: 65, dtype: int64"
      ]
     },
     "execution_count": 16,
     "metadata": {},
     "output_type": "execute_result"
    }
   ],
   "source": [
    "training_set_numeric = training_set_numeric.astype(str).fillna('NA')\n",
    "\n",
    "ohe = OneHotEncoder(drop= 'first', sparse_output= False, dtype= int)\n",
    "\n",
    "training_set_numeric = training_set_numeric.fillna('NA')\n",
    "columns_nan = training_set_numeric.columns[(training_set_numeric == 0).all()]\n",
    "columns_nan.nunique()\n",
    "\n",
    "ohe.fit(training_set_numeric)\n",
    "training_set_numeric_encoded = ohe.transform(training_set_numeric)\n",
    "\n",
    "training_set_numeric = pd.DataFrame(training_set_numeric_encoded, columns=ohe.get_feature_names_out(training_set_numeric.columns))\n",
    "\n",
    "training_set_numeric.nunique()"
   ]
  },
  {
   "cell_type": "markdown",
   "metadata": {},
   "source": [
    "the training_set_numeric has been converted into binary, resulting in a total of 65 columns. Merge training_set_numeric and training_set_categorical into one dataframe."
   ]
  },
  {
   "cell_type": "code",
   "execution_count": 17,
   "metadata": {},
   "outputs": [
    {
     "data": {
      "text/plain": [
       "(26707, 96)"
      ]
     },
     "execution_count": 17,
     "metadata": {},
     "output_type": "execute_result"
    }
   ],
   "source": [
    "training_set_df = pd.concat([training_set_numeric, training_set_categorical], axis= 1)\n",
    "training_set_df.shape"
   ]
  },
  {
   "cell_type": "markdown",
   "metadata": {},
   "source": [
    "The training_set_df is now cleaned and ready for modeling."
   ]
  },
  {
   "cell_type": "markdown",
   "metadata": {},
   "source": [
    "**5. Data cleaning (test dataframe)**\n",
    "\n",
    "Repeat the same data cleaning process on the test data to ensure consistency."
   ]
  },
  {
   "cell_type": "code",
   "execution_count": 18,
   "metadata": {},
   "outputs": [
    {
     "name": "stdout",
     "output_type": "stream",
     "text": [
      "<class 'pandas.core.frame.DataFrame'>\n",
      "RangeIndex: 26708 entries, 0 to 26707\n",
      "Data columns (total 39 columns):\n",
      " #   Column                       Non-Null Count  Dtype  \n",
      "---  ------                       --------------  -----  \n",
      " 0   respondent_id                26707 non-null  float64\n",
      " 1   h1n1_vaccine                 26707 non-null  float64\n",
      " 2   seasonal_vaccine             26707 non-null  float64\n",
      " 3   respondent_id                26708 non-null  int64  \n",
      " 4   h1n1_concern                 26623 non-null  float64\n",
      " 5   h1n1_knowledge               26586 non-null  float64\n",
      " 6   behavioral_antiviral_meds    26629 non-null  float64\n",
      " 7   behavioral_avoidance         26495 non-null  float64\n",
      " 8   behavioral_face_mask         26689 non-null  float64\n",
      " 9   behavioral_wash_hands        26668 non-null  float64\n",
      " 10  behavioral_large_gatherings  26636 non-null  float64\n",
      " 11  behavioral_outside_home      26626 non-null  float64\n",
      " 12  behavioral_touch_face        26580 non-null  float64\n",
      " 13  doctor_recc_h1n1             24548 non-null  float64\n",
      " 14  doctor_recc_seasonal         24548 non-null  float64\n",
      " 15  chronic_med_condition        25776 non-null  float64\n",
      " 16  child_under_6_months         25895 non-null  float64\n",
      " 17  health_worker                25919 non-null  float64\n",
      " 18  health_insurance             14480 non-null  float64\n",
      " 19  opinion_h1n1_vacc_effective  26310 non-null  float64\n",
      " 20  opinion_h1n1_risk            26328 non-null  float64\n",
      " 21  opinion_h1n1_sick_from_vacc  26333 non-null  float64\n",
      " 22  opinion_seas_vacc_effective  26256 non-null  float64\n",
      " 23  opinion_seas_risk            26209 non-null  float64\n",
      " 24  opinion_seas_sick_from_vacc  26187 non-null  float64\n",
      " 25  age_group                    26708 non-null  object \n",
      " 26  education                    25301 non-null  object \n",
      " 27  race                         26708 non-null  object \n",
      " 28  sex                          26708 non-null  object \n",
      " 29  income_poverty               22211 non-null  object \n",
      " 30  marital_status               25266 non-null  object \n",
      " 31  rent_or_own                  24672 non-null  object \n",
      " 32  employment_status            25237 non-null  object \n",
      " 33  hhs_geo_region               26708 non-null  object \n",
      " 34  census_msa                   26708 non-null  object \n",
      " 35  household_adults             26483 non-null  float64\n",
      " 36  household_children           26483 non-null  float64\n",
      " 37  employment_industry          13433 non-null  object \n",
      " 38  employment_occupation        13282 non-null  object \n",
      "dtypes: float64(26), int64(1), object(12)\n",
      "memory usage: 7.9+ MB\n"
     ]
    }
   ],
   "source": [
    "test_set_df.info()"
   ]
  },
  {
   "cell_type": "code",
   "execution_count": 19,
   "metadata": {},
   "outputs": [
    {
     "data": {
      "text/plain": [
       "h1n1_vaccine                       1\n",
       "seasonal_vaccine                   1\n",
       "h1n1_concern                      85\n",
       "h1n1_knowledge                   122\n",
       "behavioral_antiviral_meds         79\n",
       "behavioral_avoidance             213\n",
       "behavioral_face_mask              19\n",
       "behavioral_wash_hands             40\n",
       "behavioral_large_gatherings       72\n",
       "behavioral_outside_home           82\n",
       "behavioral_touch_face            128\n",
       "doctor_recc_h1n1                2160\n",
       "doctor_recc_seasonal            2160\n",
       "chronic_med_condition            932\n",
       "child_under_6_months             813\n",
       "health_worker                    789\n",
       "health_insurance               12228\n",
       "opinion_h1n1_vacc_effective      398\n",
       "opinion_h1n1_risk                380\n",
       "opinion_h1n1_sick_from_vacc      375\n",
       "opinion_seas_vacc_effective      452\n",
       "opinion_seas_risk                499\n",
       "opinion_seas_sick_from_vacc      521\n",
       "age_group                          0\n",
       "education                       1407\n",
       "race                               0\n",
       "sex                                0\n",
       "income_poverty                  4497\n",
       "marital_status                  1442\n",
       "employment_status               1471\n",
       "hhs_geo_region                     0\n",
       "census_msa                         0\n",
       "household_adults                 225\n",
       "household_children               225\n",
       "dtype: int64"
      ]
     },
     "execution_count": 19,
     "metadata": {},
     "output_type": "execute_result"
    }
   ],
   "source": [
    "# Drop the following columns: employment_industry, employment_occupation, rent_or_own, 'respondent_id'\n",
    "test_set_df = test_set_df.drop(columns= ['employment_industry', 'employment_occupation', 'rent_or_own', 'respondent_id'])\n",
    "\n",
    "# Check for missing values\n",
    "test_set_df.isna().sum()"
   ]
  },
  {
   "cell_type": "markdown",
   "metadata": {},
   "source": [
    "Use mode and OHE to fill in missing values."
   ]
  },
  {
   "cell_type": "code",
   "execution_count": 20,
   "metadata": {},
   "outputs": [],
   "source": [
    "# Where a column has a na < 200, fill na with the modal value.\n",
    "def fill_na_less_200(column):\n",
    "    if column.isna().sum() < 200:\n",
    "        modal_value = column.mode()[0]\n",
    "        return column.fillna(modal_value)\n",
    "    return column\n",
    "\n",
    "test_set_df = test_set_df.apply(fill_na_less_200)"
   ]
  },
  {
   "cell_type": "code",
   "execution_count": 21,
   "metadata": {},
   "outputs": [
    {
     "data": {
      "text/plain": [
       "age_group_35 - 44 Years                 0\n",
       "age_group_45 - 54 Years                 0\n",
       "age_group_55 - 64 Years                 0\n",
       "age_group_65+ Years                     0\n",
       "education_< 12 Years                    0\n",
       "education_College Graduate              0\n",
       "education_Some College                  0\n",
       "education_nan                           0\n",
       "race_Hispanic                           0\n",
       "race_Other or Multiple                  0\n",
       "race_White                              0\n",
       "sex_Male                                0\n",
       "income_poverty_> $75,000                0\n",
       "income_poverty_Below Poverty            0\n",
       "income_poverty_nan                      0\n",
       "marital_status_Not Married              0\n",
       "marital_status_nan                      0\n",
       "employment_status_Not in Labor Force    0\n",
       "employment_status_Unemployed            0\n",
       "employment_status_nan                   0\n",
       "hhs_geo_region_bhuqouqj                 0\n",
       "hhs_geo_region_dqpwygqj                 0\n",
       "hhs_geo_region_fpwskwrf                 0\n",
       "hhs_geo_region_kbazzjca                 0\n",
       "hhs_geo_region_lrircsnp                 0\n",
       "hhs_geo_region_lzgpxyit                 0\n",
       "hhs_geo_region_mlyzmhmf                 0\n",
       "hhs_geo_region_oxchjgsf                 0\n",
       "hhs_geo_region_qufhixun                 0\n",
       "census_msa_MSA, Principle City          0\n",
       "census_msa_Non-MSA                      0\n",
       "dtype: int64"
      ]
     },
     "execution_count": 21,
     "metadata": {},
     "output_type": "execute_result"
    }
   ],
   "source": [
    "# OHE the test_set_df\n",
    "\n",
    "# Identify categorical variables with dtype object\n",
    "test_categorical = [var for var in test_set_df.columns if test_set_df[var].dtype == 'O']\n",
    "\n",
    "# OHE for all categorical columns, add additional columns for missing data\n",
    "test_categorical = pd.get_dummies(test_set_df[test_categorical], drop_first= True, dummy_na= True, dtype= int)\n",
    "\n",
    "# Drop columns where nans=0\n",
    "test_categorical = test_categorical.loc[:, (test_categorical != 0).any(axis=0)]\n",
    "\n",
    "test_categorical.isna().sum()"
   ]
  },
  {
   "cell_type": "code",
   "execution_count": 22,
   "metadata": {},
   "outputs": [
    {
     "data": {
      "text/plain": [
       "(26708, 31)"
      ]
     },
     "execution_count": 22,
     "metadata": {},
     "output_type": "execute_result"
    }
   ],
   "source": [
    "test_categorical.shape"
   ]
  },
  {
   "cell_type": "code",
   "execution_count": 23,
   "metadata": {},
   "outputs": [
    {
     "data": {
      "text/plain": [
       "h1n1_vaccine_1.0          0\n",
       "seasonal_vaccine_1.0      0\n",
       "h1n1_concern_1.0          0\n",
       "h1n1_concern_2.0          0\n",
       "h1n1_concern_3.0          0\n",
       "                         ..\n",
       "household_adults_nan      0\n",
       "household_children_1.0    0\n",
       "household_children_2.0    0\n",
       "household_children_3.0    0\n",
       "household_children_nan    0\n",
       "Length: 65, dtype: int64"
      ]
     },
     "execution_count": 23,
     "metadata": {},
     "output_type": "execute_result"
    }
   ],
   "source": [
    "# Identify categotical variables with dtype int\n",
    "test_numeric = test_set_df.select_dtypes(include= 'number')\n",
    "\n",
    "# Fill na with 'NA' where na is a string\n",
    "test_numeric = test_numeric.astype(str).fillna('NA')\n",
    "\n",
    "# OHE \n",
    "ohe = OneHotEncoder(drop= 'first', sparse_output= False, dtype= int)\n",
    "\n",
    "# test_numeric = test_numeric.fillna('NA')\n",
    "# columns_nan = test_numeric.columns[(test_numeric == 0).all()]\n",
    "# columns_nan.nunique()\n",
    "\n",
    "ohe.fit(test_numeric)\n",
    "test_numeric_encoded = ohe.transform(test_numeric)\n",
    "\n",
    "test_numeric = pd.DataFrame(test_numeric_encoded, columns=ohe.get_feature_names_out(test_numeric.columns))\n",
    "\n",
    "test_numeric.isna().sum()"
   ]
  },
  {
   "cell_type": "code",
   "execution_count": 24,
   "metadata": {},
   "outputs": [
    {
     "data": {
      "text/plain": [
       "(26708, 96)"
      ]
     },
     "execution_count": 24,
     "metadata": {},
     "output_type": "execute_result"
    }
   ],
   "source": [
    "# Merge the categorical and numeric dfs\n",
    "test_set_df = pd.concat([test_categorical, test_numeric], axis= 1)\n",
    "test_set_df.shape"
   ]
  },
  {
   "cell_type": "code",
   "execution_count": 25,
   "metadata": {},
   "outputs": [],
   "source": [
    "# Merge and rename the vaccines columns for consistency across the training and test dfs\n",
    "test_set_df = test_set_df.rename(columns={'h1n1_vaccine_1.0':'h1n1_vaccine_1', 'seasonal_vaccine_1.0':'seasonal_vaccine_1'})\n",
    "test_set_df = test_set_df[training_set_df.columns]"
   ]
  },
  {
   "cell_type": "markdown",
   "metadata": {},
   "source": [
    "Both the training and testing datasets are cleaned and ready for modeling."
   ]
  },
  {
   "cell_type": "markdown",
   "metadata": {},
   "source": [
    "**6. Train-Test Split**\n",
    "\n",
    "Split the training_set_df into a training and test subsets for training and testing the model.\n",
    "\n",
    "    a. h1n1_vaccine\n",
    "Start with h1n1 vaccine as the dependent variable (y)."
   ]
  },
  {
   "cell_type": "code",
   "execution_count": 26,
   "metadata": {},
   "outputs": [
    {
     "data": {
      "text/plain": [
       "((21365, 95), (5342, 95))"
      ]
     },
     "execution_count": 26,
     "metadata": {},
     "output_type": "execute_result"
    }
   ],
   "source": [
    "# Define X and y\n",
    "y = training_set_df['h1n1_vaccine_1']\n",
    "X = training_set_df.drop(columns= 'h1n1_vaccine_1')\n",
    "\n",
    "\n",
    "# Split data\n",
    "X_train, X_test, y_train, y_test = train_test_split(X, y, test_size= 0.2, random_state= 42)\n",
    "\n",
    "X_train.shape, X_test.shape"
   ]
  },
  {
   "cell_type": "code",
   "execution_count": 27,
   "metadata": {},
   "outputs": [
    {
     "data": {
      "text/html": [
       "<div>\n",
       "<style scoped>\n",
       "    .dataframe tbody tr th:only-of-type {\n",
       "        vertical-align: middle;\n",
       "    }\n",
       "\n",
       "    .dataframe tbody tr th {\n",
       "        vertical-align: top;\n",
       "    }\n",
       "\n",
       "    .dataframe thead th {\n",
       "        text-align: right;\n",
       "    }\n",
       "</style>\n",
       "<table border=\"1\" class=\"dataframe\">\n",
       "  <thead>\n",
       "    <tr style=\"text-align: right;\">\n",
       "      <th></th>\n",
       "      <th>seasonal_vaccine_1</th>\n",
       "      <th>h1n1_concern_1.0</th>\n",
       "      <th>h1n1_concern_2.0</th>\n",
       "      <th>h1n1_concern_3.0</th>\n",
       "      <th>h1n1_knowledge_1.0</th>\n",
       "      <th>h1n1_knowledge_2.0</th>\n",
       "      <th>behavioral_antiviral_meds_1.0</th>\n",
       "      <th>behavioral_avoidance_1.0</th>\n",
       "      <th>behavioral_avoidance_nan</th>\n",
       "      <th>behavioral_face_mask_1.0</th>\n",
       "      <th>...</th>\n",
       "      <th>hhs_geo_region_dqpwygqj</th>\n",
       "      <th>hhs_geo_region_fpwskwrf</th>\n",
       "      <th>hhs_geo_region_kbazzjca</th>\n",
       "      <th>hhs_geo_region_lrircsnp</th>\n",
       "      <th>hhs_geo_region_lzgpxyit</th>\n",
       "      <th>hhs_geo_region_mlyzmhmf</th>\n",
       "      <th>hhs_geo_region_oxchjgsf</th>\n",
       "      <th>hhs_geo_region_qufhixun</th>\n",
       "      <th>census_msa_MSA, Principle City</th>\n",
       "      <th>census_msa_Non-MSA</th>\n",
       "    </tr>\n",
       "  </thead>\n",
       "  <tbody>\n",
       "    <tr>\n",
       "      <th>count</th>\n",
       "      <td>21365.000000</td>\n",
       "      <td>21365.000000</td>\n",
       "      <td>21365.000000</td>\n",
       "      <td>21365.000000</td>\n",
       "      <td>21365.000000</td>\n",
       "      <td>21365.000000</td>\n",
       "      <td>21365.000000</td>\n",
       "      <td>21365.000000</td>\n",
       "      <td>21365.000000</td>\n",
       "      <td>21365.000000</td>\n",
       "      <td>...</td>\n",
       "      <td>21365.000000</td>\n",
       "      <td>21365.000000</td>\n",
       "      <td>21365.000000</td>\n",
       "      <td>21365.000000</td>\n",
       "      <td>21365.000000</td>\n",
       "      <td>21365.000000</td>\n",
       "      <td>21365.000000</td>\n",
       "      <td>21365.000000</td>\n",
       "      <td>21365.000000</td>\n",
       "      <td>21365.000000</td>\n",
       "    </tr>\n",
       "    <tr>\n",
       "      <th>mean</th>\n",
       "      <td>0.467306</td>\n",
       "      <td>0.306717</td>\n",
       "      <td>0.398923</td>\n",
       "      <td>0.171589</td>\n",
       "      <td>0.550012</td>\n",
       "      <td>0.356939</td>\n",
       "      <td>0.049193</td>\n",
       "      <td>0.718980</td>\n",
       "      <td>0.007629</td>\n",
       "      <td>0.070302</td>\n",
       "      <td>...</td>\n",
       "      <td>0.042312</td>\n",
       "      <td>0.121554</td>\n",
       "      <td>0.109057</td>\n",
       "      <td>0.078259</td>\n",
       "      <td>0.159420</td>\n",
       "      <td>0.082659</td>\n",
       "      <td>0.108963</td>\n",
       "      <td>0.117061</td>\n",
       "      <td>0.293939</td>\n",
       "      <td>0.272268</td>\n",
       "    </tr>\n",
       "    <tr>\n",
       "      <th>std</th>\n",
       "      <td>0.498942</td>\n",
       "      <td>0.461141</td>\n",
       "      <td>0.489688</td>\n",
       "      <td>0.377032</td>\n",
       "      <td>0.497504</td>\n",
       "      <td>0.479108</td>\n",
       "      <td>0.216275</td>\n",
       "      <td>0.449508</td>\n",
       "      <td>0.087014</td>\n",
       "      <td>0.255661</td>\n",
       "      <td>...</td>\n",
       "      <td>0.201305</td>\n",
       "      <td>0.326778</td>\n",
       "      <td>0.311718</td>\n",
       "      <td>0.268585</td>\n",
       "      <td>0.366075</td>\n",
       "      <td>0.275372</td>\n",
       "      <td>0.311600</td>\n",
       "      <td>0.321500</td>\n",
       "      <td>0.455575</td>\n",
       "      <td>0.445137</td>\n",
       "    </tr>\n",
       "    <tr>\n",
       "      <th>min</th>\n",
       "      <td>0.000000</td>\n",
       "      <td>0.000000</td>\n",
       "      <td>0.000000</td>\n",
       "      <td>0.000000</td>\n",
       "      <td>0.000000</td>\n",
       "      <td>0.000000</td>\n",
       "      <td>0.000000</td>\n",
       "      <td>0.000000</td>\n",
       "      <td>0.000000</td>\n",
       "      <td>0.000000</td>\n",
       "      <td>...</td>\n",
       "      <td>0.000000</td>\n",
       "      <td>0.000000</td>\n",
       "      <td>0.000000</td>\n",
       "      <td>0.000000</td>\n",
       "      <td>0.000000</td>\n",
       "      <td>0.000000</td>\n",
       "      <td>0.000000</td>\n",
       "      <td>0.000000</td>\n",
       "      <td>0.000000</td>\n",
       "      <td>0.000000</td>\n",
       "    </tr>\n",
       "    <tr>\n",
       "      <th>25%</th>\n",
       "      <td>0.000000</td>\n",
       "      <td>0.000000</td>\n",
       "      <td>0.000000</td>\n",
       "      <td>0.000000</td>\n",
       "      <td>0.000000</td>\n",
       "      <td>0.000000</td>\n",
       "      <td>0.000000</td>\n",
       "      <td>0.000000</td>\n",
       "      <td>0.000000</td>\n",
       "      <td>0.000000</td>\n",
       "      <td>...</td>\n",
       "      <td>0.000000</td>\n",
       "      <td>0.000000</td>\n",
       "      <td>0.000000</td>\n",
       "      <td>0.000000</td>\n",
       "      <td>0.000000</td>\n",
       "      <td>0.000000</td>\n",
       "      <td>0.000000</td>\n",
       "      <td>0.000000</td>\n",
       "      <td>0.000000</td>\n",
       "      <td>0.000000</td>\n",
       "    </tr>\n",
       "    <tr>\n",
       "      <th>50%</th>\n",
       "      <td>0.000000</td>\n",
       "      <td>0.000000</td>\n",
       "      <td>0.000000</td>\n",
       "      <td>0.000000</td>\n",
       "      <td>1.000000</td>\n",
       "      <td>0.000000</td>\n",
       "      <td>0.000000</td>\n",
       "      <td>1.000000</td>\n",
       "      <td>0.000000</td>\n",
       "      <td>0.000000</td>\n",
       "      <td>...</td>\n",
       "      <td>0.000000</td>\n",
       "      <td>0.000000</td>\n",
       "      <td>0.000000</td>\n",
       "      <td>0.000000</td>\n",
       "      <td>0.000000</td>\n",
       "      <td>0.000000</td>\n",
       "      <td>0.000000</td>\n",
       "      <td>0.000000</td>\n",
       "      <td>0.000000</td>\n",
       "      <td>0.000000</td>\n",
       "    </tr>\n",
       "    <tr>\n",
       "      <th>75%</th>\n",
       "      <td>1.000000</td>\n",
       "      <td>1.000000</td>\n",
       "      <td>1.000000</td>\n",
       "      <td>0.000000</td>\n",
       "      <td>1.000000</td>\n",
       "      <td>1.000000</td>\n",
       "      <td>0.000000</td>\n",
       "      <td>1.000000</td>\n",
       "      <td>0.000000</td>\n",
       "      <td>0.000000</td>\n",
       "      <td>...</td>\n",
       "      <td>0.000000</td>\n",
       "      <td>0.000000</td>\n",
       "      <td>0.000000</td>\n",
       "      <td>0.000000</td>\n",
       "      <td>0.000000</td>\n",
       "      <td>0.000000</td>\n",
       "      <td>0.000000</td>\n",
       "      <td>0.000000</td>\n",
       "      <td>1.000000</td>\n",
       "      <td>1.000000</td>\n",
       "    </tr>\n",
       "    <tr>\n",
       "      <th>max</th>\n",
       "      <td>1.000000</td>\n",
       "      <td>1.000000</td>\n",
       "      <td>1.000000</td>\n",
       "      <td>1.000000</td>\n",
       "      <td>1.000000</td>\n",
       "      <td>1.000000</td>\n",
       "      <td>1.000000</td>\n",
       "      <td>1.000000</td>\n",
       "      <td>1.000000</td>\n",
       "      <td>1.000000</td>\n",
       "      <td>...</td>\n",
       "      <td>1.000000</td>\n",
       "      <td>1.000000</td>\n",
       "      <td>1.000000</td>\n",
       "      <td>1.000000</td>\n",
       "      <td>1.000000</td>\n",
       "      <td>1.000000</td>\n",
       "      <td>1.000000</td>\n",
       "      <td>1.000000</td>\n",
       "      <td>1.000000</td>\n",
       "      <td>1.000000</td>\n",
       "    </tr>\n",
       "  </tbody>\n",
       "</table>\n",
       "<p>8 rows × 95 columns</p>\n",
       "</div>"
      ],
      "text/plain": [
       "       seasonal_vaccine_1  h1n1_concern_1.0  h1n1_concern_2.0  \\\n",
       "count        21365.000000      21365.000000      21365.000000   \n",
       "mean             0.467306          0.306717          0.398923   \n",
       "std              0.498942          0.461141          0.489688   \n",
       "min              0.000000          0.000000          0.000000   \n",
       "25%              0.000000          0.000000          0.000000   \n",
       "50%              0.000000          0.000000          0.000000   \n",
       "75%              1.000000          1.000000          1.000000   \n",
       "max              1.000000          1.000000          1.000000   \n",
       "\n",
       "       h1n1_concern_3.0  h1n1_knowledge_1.0  h1n1_knowledge_2.0  \\\n",
       "count      21365.000000        21365.000000        21365.000000   \n",
       "mean           0.171589            0.550012            0.356939   \n",
       "std            0.377032            0.497504            0.479108   \n",
       "min            0.000000            0.000000            0.000000   \n",
       "25%            0.000000            0.000000            0.000000   \n",
       "50%            0.000000            1.000000            0.000000   \n",
       "75%            0.000000            1.000000            1.000000   \n",
       "max            1.000000            1.000000            1.000000   \n",
       "\n",
       "       behavioral_antiviral_meds_1.0  behavioral_avoidance_1.0  \\\n",
       "count                   21365.000000              21365.000000   \n",
       "mean                        0.049193                  0.718980   \n",
       "std                         0.216275                  0.449508   \n",
       "min                         0.000000                  0.000000   \n",
       "25%                         0.000000                  0.000000   \n",
       "50%                         0.000000                  1.000000   \n",
       "75%                         0.000000                  1.000000   \n",
       "max                         1.000000                  1.000000   \n",
       "\n",
       "       behavioral_avoidance_nan  behavioral_face_mask_1.0  ...  \\\n",
       "count              21365.000000              21365.000000  ...   \n",
       "mean                   0.007629                  0.070302  ...   \n",
       "std                    0.087014                  0.255661  ...   \n",
       "min                    0.000000                  0.000000  ...   \n",
       "25%                    0.000000                  0.000000  ...   \n",
       "50%                    0.000000                  0.000000  ...   \n",
       "75%                    0.000000                  0.000000  ...   \n",
       "max                    1.000000                  1.000000  ...   \n",
       "\n",
       "       hhs_geo_region_dqpwygqj  hhs_geo_region_fpwskwrf  \\\n",
       "count             21365.000000             21365.000000   \n",
       "mean                  0.042312                 0.121554   \n",
       "std                   0.201305                 0.326778   \n",
       "min                   0.000000                 0.000000   \n",
       "25%                   0.000000                 0.000000   \n",
       "50%                   0.000000                 0.000000   \n",
       "75%                   0.000000                 0.000000   \n",
       "max                   1.000000                 1.000000   \n",
       "\n",
       "       hhs_geo_region_kbazzjca  hhs_geo_region_lrircsnp  \\\n",
       "count             21365.000000             21365.000000   \n",
       "mean                  0.109057                 0.078259   \n",
       "std                   0.311718                 0.268585   \n",
       "min                   0.000000                 0.000000   \n",
       "25%                   0.000000                 0.000000   \n",
       "50%                   0.000000                 0.000000   \n",
       "75%                   0.000000                 0.000000   \n",
       "max                   1.000000                 1.000000   \n",
       "\n",
       "       hhs_geo_region_lzgpxyit  hhs_geo_region_mlyzmhmf  \\\n",
       "count             21365.000000             21365.000000   \n",
       "mean                  0.159420                 0.082659   \n",
       "std                   0.366075                 0.275372   \n",
       "min                   0.000000                 0.000000   \n",
       "25%                   0.000000                 0.000000   \n",
       "50%                   0.000000                 0.000000   \n",
       "75%                   0.000000                 0.000000   \n",
       "max                   1.000000                 1.000000   \n",
       "\n",
       "       hhs_geo_region_oxchjgsf  hhs_geo_region_qufhixun  \\\n",
       "count             21365.000000             21365.000000   \n",
       "mean                  0.108963                 0.117061   \n",
       "std                   0.311600                 0.321500   \n",
       "min                   0.000000                 0.000000   \n",
       "25%                   0.000000                 0.000000   \n",
       "50%                   0.000000                 0.000000   \n",
       "75%                   0.000000                 0.000000   \n",
       "max                   1.000000                 1.000000   \n",
       "\n",
       "       census_msa_MSA, Principle City  census_msa_Non-MSA  \n",
       "count                    21365.000000        21365.000000  \n",
       "mean                         0.293939            0.272268  \n",
       "std                          0.455575            0.445137  \n",
       "min                          0.000000            0.000000  \n",
       "25%                          0.000000            0.000000  \n",
       "50%                          0.000000            0.000000  \n",
       "75%                          1.000000            1.000000  \n",
       "max                          1.000000            1.000000  \n",
       "\n",
       "[8 rows x 95 columns]"
      ]
     },
     "execution_count": 27,
     "metadata": {},
     "output_type": "execute_result"
    }
   ],
   "source": [
    "X_train.describe()"
   ]
  },
  {
   "cell_type": "markdown",
   "metadata": {},
   "source": [
    "**7. Model Training**\n",
    "\n",
    "Start with logistic regression as the first classifier ..."
   ]
  },
  {
   "cell_type": "code",
   "execution_count": 28,
   "metadata": {},
   "outputs": [
    {
     "data": {
      "text/html": [
       "<style>#sk-container-id-1 {color: black;background-color: white;}#sk-container-id-1 pre{padding: 0;}#sk-container-id-1 div.sk-toggleable {background-color: white;}#sk-container-id-1 label.sk-toggleable__label {cursor: pointer;display: block;width: 100%;margin-bottom: 0;padding: 0.3em;box-sizing: border-box;text-align: center;}#sk-container-id-1 label.sk-toggleable__label-arrow:before {content: \"▸\";float: left;margin-right: 0.25em;color: #696969;}#sk-container-id-1 label.sk-toggleable__label-arrow:hover:before {color: black;}#sk-container-id-1 div.sk-estimator:hover label.sk-toggleable__label-arrow:before {color: black;}#sk-container-id-1 div.sk-toggleable__content {max-height: 0;max-width: 0;overflow: hidden;text-align: left;background-color: #f0f8ff;}#sk-container-id-1 div.sk-toggleable__content pre {margin: 0.2em;color: black;border-radius: 0.25em;background-color: #f0f8ff;}#sk-container-id-1 input.sk-toggleable__control:checked~div.sk-toggleable__content {max-height: 200px;max-width: 100%;overflow: auto;}#sk-container-id-1 input.sk-toggleable__control:checked~label.sk-toggleable__label-arrow:before {content: \"▾\";}#sk-container-id-1 div.sk-estimator input.sk-toggleable__control:checked~label.sk-toggleable__label {background-color: #d4ebff;}#sk-container-id-1 div.sk-label input.sk-toggleable__control:checked~label.sk-toggleable__label {background-color: #d4ebff;}#sk-container-id-1 input.sk-hidden--visually {border: 0;clip: rect(1px 1px 1px 1px);clip: rect(1px, 1px, 1px, 1px);height: 1px;margin: -1px;overflow: hidden;padding: 0;position: absolute;width: 1px;}#sk-container-id-1 div.sk-estimator {font-family: monospace;background-color: #f0f8ff;border: 1px dotted black;border-radius: 0.25em;box-sizing: border-box;margin-bottom: 0.5em;}#sk-container-id-1 div.sk-estimator:hover {background-color: #d4ebff;}#sk-container-id-1 div.sk-parallel-item::after {content: \"\";width: 100%;border-bottom: 1px solid gray;flex-grow: 1;}#sk-container-id-1 div.sk-label:hover label.sk-toggleable__label {background-color: #d4ebff;}#sk-container-id-1 div.sk-serial::before {content: \"\";position: absolute;border-left: 1px solid gray;box-sizing: border-box;top: 0;bottom: 0;left: 50%;z-index: 0;}#sk-container-id-1 div.sk-serial {display: flex;flex-direction: column;align-items: center;background-color: white;padding-right: 0.2em;padding-left: 0.2em;position: relative;}#sk-container-id-1 div.sk-item {position: relative;z-index: 1;}#sk-container-id-1 div.sk-parallel {display: flex;align-items: stretch;justify-content: center;background-color: white;position: relative;}#sk-container-id-1 div.sk-item::before, #sk-container-id-1 div.sk-parallel-item::before {content: \"\";position: absolute;border-left: 1px solid gray;box-sizing: border-box;top: 0;bottom: 0;left: 50%;z-index: -1;}#sk-container-id-1 div.sk-parallel-item {display: flex;flex-direction: column;z-index: 1;position: relative;background-color: white;}#sk-container-id-1 div.sk-parallel-item:first-child::after {align-self: flex-end;width: 50%;}#sk-container-id-1 div.sk-parallel-item:last-child::after {align-self: flex-start;width: 50%;}#sk-container-id-1 div.sk-parallel-item:only-child::after {width: 0;}#sk-container-id-1 div.sk-dashed-wrapped {border: 1px dashed gray;margin: 0 0.4em 0.5em 0.4em;box-sizing: border-box;padding-bottom: 0.4em;background-color: white;}#sk-container-id-1 div.sk-label label {font-family: monospace;font-weight: bold;display: inline-block;line-height: 1.2em;}#sk-container-id-1 div.sk-label-container {text-align: center;}#sk-container-id-1 div.sk-container {/* jupyter's `normalize.less` sets `[hidden] { display: none; }` but bootstrap.min.css set `[hidden] { display: none !important; }` so we also need the `!important` here to be able to override the default hidden behavior on the sphinx rendered scikit-learn.org. See: https://github.com/scikit-learn/scikit-learn/issues/21755 */display: inline-block !important;position: relative;}#sk-container-id-1 div.sk-text-repr-fallback {display: none;}</style><div id=\"sk-container-id-1\" class=\"sk-top-container\"><div class=\"sk-text-repr-fallback\"><pre>LogisticRegression(random_state=42, solver=&#x27;liblinear&#x27;)</pre><b>In a Jupyter environment, please rerun this cell to show the HTML representation or trust the notebook. <br />On GitHub, the HTML representation is unable to render, please try loading this page with nbviewer.org.</b></div><div class=\"sk-container\" hidden><div class=\"sk-item\"><div class=\"sk-estimator sk-toggleable\"><input class=\"sk-toggleable__control sk-hidden--visually\" id=\"sk-estimator-id-1\" type=\"checkbox\" checked><label for=\"sk-estimator-id-1\" class=\"sk-toggleable__label sk-toggleable__label-arrow\">LogisticRegression</label><div class=\"sk-toggleable__content\"><pre>LogisticRegression(random_state=42, solver=&#x27;liblinear&#x27;)</pre></div></div></div></div></div>"
      ],
      "text/plain": [
       "LogisticRegression(random_state=42, solver='liblinear')"
      ]
     },
     "execution_count": 28,
     "metadata": {},
     "output_type": "execute_result"
    }
   ],
   "source": [
    "# Train and fit the training data into the model\n",
    "logreg = LogisticRegression(solver='liblinear', random_state= 42)\n",
    "logreg.fit(X_train, y_train)"
   ]
  },
  {
   "cell_type": "markdown",
   "metadata": {},
   "source": [
    "check the predictions and model accuracy ..."
   ]
  },
  {
   "cell_type": "code",
   "execution_count": 29,
   "metadata": {},
   "outputs": [
    {
     "data": {
      "text/plain": [
       "(array([0, 0, 0, ..., 0, 0, 0]), array([0, 0, 0, ..., 1, 0, 0]))"
      ]
     },
     "execution_count": 29,
     "metadata": {},
     "output_type": "execute_result"
    }
   ],
   "source": [
    "y_pred_train = logreg.predict(X_train)\n",
    "y_pred_test = logreg.predict(X_test)\n",
    "\n",
    "\n",
    "y_pred_train, y_pred_test"
   ]
  },
  {
   "cell_type": "markdown",
   "metadata": {},
   "source": [
    "compare the accuracy score of y_pred_train and y_pred_test ..."
   ]
  },
  {
   "cell_type": "code",
   "execution_count": 30,
   "metadata": {},
   "outputs": [
    {
     "name": "stdout",
     "output_type": "stream",
     "text": [
      "Model accuracy score: 0.8680\n",
      "Training_set accuracy score: 0.8700\n"
     ]
    }
   ],
   "source": [
    "\n",
    "print('Model accuracy score: {0:0.4f}'. format(accuracy_score(y_test, y_pred_test)))\n",
    "\n",
    "print('Training_set accuracy score: {0:0.4f}'. format(accuracy_score(y_train, y_pred_train)))"
   ]
  },
  {
   "cell_type": "markdown",
   "metadata": {},
   "source": [
    "The model accuracy score is at 86.8%, which indicates that the model is likely to perform well on unseen data.\n",
    "\n",
    "Check for overfitting and underfitting ..."
   ]
  },
  {
   "cell_type": "code",
   "execution_count": 31,
   "metadata": {},
   "outputs": [
    {
     "name": "stdout",
     "output_type": "stream",
     "text": [
      "Training set score: 0.8700\n",
      "Test set score: 0.8680\n"
     ]
    }
   ],
   "source": [
    "print('Training set score: {:.4f}'.format(logreg.score(X_train, y_train)))\n",
    "\n",
    "print('Test set score: {:.4f}'.format(logreg.score(X_test, y_test)))"
   ]
  },
  {
   "cell_type": "markdown",
   "metadata": {},
   "source": [
    "The training set score and test set score are very close, which is a good indication that the model generalizes well to new data because it shows no significant overfitting or underfitting.\n",
    "\n",
    "Compare the model accuracy with the null accuracy to verify model performance ..."
   ]
  },
  {
   "cell_type": "code",
   "execution_count": 32,
   "metadata": {},
   "outputs": [
    {
     "data": {
      "text/plain": [
       "h1n1_vaccine_1\n",
       "0    4212\n",
       "1    1130\n",
       "Name: count, dtype: int64"
      ]
     },
     "execution_count": 32,
     "metadata": {},
     "output_type": "execute_result"
    }
   ],
   "source": [
    "y_test.value_counts()"
   ]
  },
  {
   "cell_type": "code",
   "execution_count": 33,
   "metadata": {},
   "outputs": [
    {
     "name": "stdout",
     "output_type": "stream",
     "text": [
      "Null accuracy score: 0.788469\n"
     ]
    }
   ],
   "source": [
    "null_accuracy = (4212/(4212+1130))\n",
    "\n",
    "print('Null accuracy score: {0:04f}'.format(null_accuracy))"
   ]
  },
  {
   "cell_type": "markdown",
   "metadata": {},
   "source": [
    "The model accuracy of 0.8680 is higher than the null accuracy score of 0.7885, which shows that the model is effectively learning patterns in the data. Additionally, a null accuracy score of 78.9% demonstrates the baseline model's ability to predict the most common class."
   ]
  },
  {
   "cell_type": "markdown",
   "metadata": {},
   "source": [
    "Get the probabilities of predicted y ..."
   ]
  },
  {
   "cell_type": "code",
   "execution_count": 34,
   "metadata": {},
   "outputs": [
    {
     "data": {
      "text/html": [
       "<div>\n",
       "<style scoped>\n",
       "    .dataframe tbody tr th:only-of-type {\n",
       "        vertical-align: middle;\n",
       "    }\n",
       "\n",
       "    .dataframe tbody tr th {\n",
       "        vertical-align: top;\n",
       "    }\n",
       "\n",
       "    .dataframe thead th {\n",
       "        text-align: right;\n",
       "    }\n",
       "</style>\n",
       "<table border=\"1\" class=\"dataframe\">\n",
       "  <thead>\n",
       "    <tr style=\"text-align: right;\">\n",
       "      <th></th>\n",
       "      <th>no h1n1_vaccine (0)</th>\n",
       "      <th>yes h1n1_vaccine (1)</th>\n",
       "    </tr>\n",
       "  </thead>\n",
       "  <tbody>\n",
       "    <tr>\n",
       "      <th>0</th>\n",
       "      <td>0.883116</td>\n",
       "      <td>0.116884</td>\n",
       "    </tr>\n",
       "    <tr>\n",
       "      <th>1</th>\n",
       "      <td>0.633374</td>\n",
       "      <td>0.366626</td>\n",
       "    </tr>\n",
       "    <tr>\n",
       "      <th>2</th>\n",
       "      <td>0.986290</td>\n",
       "      <td>0.013710</td>\n",
       "    </tr>\n",
       "    <tr>\n",
       "      <th>3</th>\n",
       "      <td>0.854798</td>\n",
       "      <td>0.145202</td>\n",
       "    </tr>\n",
       "    <tr>\n",
       "      <th>4</th>\n",
       "      <td>0.980184</td>\n",
       "      <td>0.019816</td>\n",
       "    </tr>\n",
       "    <tr>\n",
       "      <th>...</th>\n",
       "      <td>...</td>\n",
       "      <td>...</td>\n",
       "    </tr>\n",
       "    <tr>\n",
       "      <th>5337</th>\n",
       "      <td>0.549692</td>\n",
       "      <td>0.450308</td>\n",
       "    </tr>\n",
       "    <tr>\n",
       "      <th>5338</th>\n",
       "      <td>0.921455</td>\n",
       "      <td>0.078545</td>\n",
       "    </tr>\n",
       "    <tr>\n",
       "      <th>5339</th>\n",
       "      <td>0.420767</td>\n",
       "      <td>0.579233</td>\n",
       "    </tr>\n",
       "    <tr>\n",
       "      <th>5340</th>\n",
       "      <td>0.988587</td>\n",
       "      <td>0.011413</td>\n",
       "    </tr>\n",
       "    <tr>\n",
       "      <th>5341</th>\n",
       "      <td>0.950622</td>\n",
       "      <td>0.049378</td>\n",
       "    </tr>\n",
       "  </tbody>\n",
       "</table>\n",
       "<p>5342 rows × 2 columns</p>\n",
       "</div>"
      ],
      "text/plain": [
       "      no h1n1_vaccine (0)  yes h1n1_vaccine (1)\n",
       "0                0.883116              0.116884\n",
       "1                0.633374              0.366626\n",
       "2                0.986290              0.013710\n",
       "3                0.854798              0.145202\n",
       "4                0.980184              0.019816\n",
       "...                   ...                   ...\n",
       "5337             0.549692              0.450308\n",
       "5338             0.921455              0.078545\n",
       "5339             0.420767              0.579233\n",
       "5340             0.988587              0.011413\n",
       "5341             0.950622              0.049378\n",
       "\n",
       "[5342 rows x 2 columns]"
      ]
     },
     "execution_count": 34,
     "metadata": {},
     "output_type": "execute_result"
    }
   ],
   "source": [
    "y_pred_prob = logreg.predict_proba(X_test)\n",
    "\n",
    "y_pred_prob_df = pd.DataFrame(data= y_pred_prob, columns=['no h1n1_vaccine (0)', 'yes h1n1_vaccine (1)'])\n",
    "y_pred_prob_df"
   ]
  },
  {
   "cell_type": "markdown",
   "metadata": {},
   "source": [
    "plot a histogram of predicted y ..."
   ]
  },
  {
   "cell_type": "code",
   "execution_count": 35,
   "metadata": {},
   "outputs": [
    {
     "data": {
      "text/plain": [
       "Text(0, 0.5, 'frequency')"
      ]
     },
     "execution_count": 35,
     "metadata": {},
     "output_type": "execute_result"
    },
    {
     "data": {
      "image/png": "[encoded data removed]",
      "text/plain": [
       "<Figure size 640x480 with 1 Axes>"
      ]
     },
     "metadata": {},
     "output_type": "display_data"
    }
   ],
   "source": [
    "# Strore the probabilities of yes vaccine\n",
    "y_pred1 = logreg.predict_proba(X_test)[:, 1]\n",
    "\n",
    "sns.set_style('darkgrid', {'axes.facecolor': '0.9'})\n",
    "\n",
    "# Plot a histogram of the predicted probabilities\n",
    "plt.hist(y_pred1, bins= 10)\n",
    "plt.title('Histogram of Probabilities of Administering H1N1 Vaccine')\n",
    "plt.xlim(0,1)\n",
    "\n",
    "plt.xlabel('h1n1 vaccine')\n",
    "plt.ylabel('frequency')\n"
   ]
  },
  {
   "cell_type": "markdown",
   "metadata": {},
   "source": [
    "The distribution of predicted values for y test is positively skewed, indicating that a large portion of the population has very low vaccination uptake."
   ]
  },
  {
   "cell_type": "markdown",
   "metadata": {},
   "source": [
    "**8.ROC-AUC**\n",
    "\n",
    "Use the ROC-AUC metric to measure the classification model's performance. Start with ploting the ROC curve ..."
   ]
  },
  {
   "cell_type": "code",
   "execution_count": 36,
   "metadata": {},
   "outputs": [
    {
     "name": "stdout",
     "output_type": "stream",
     "text": [
      "ROC AUC Score : 0.8924\n"
     ]
    },
    {
     "data": {
      "image/png": "[encoded data removed]",
      "text/plain": [
       "<Figure size 600x400 with 1 Axes>"
      ]
     },
     "metadata": {},
     "output_type": "display_data"
    }
   ],
   "source": [
    "# Plot AUC curve\n",
    "y_score = logreg.fit(X_train, y_train).decision_function(X_test)\n",
    "fpr, tpr, threshold = roc_curve(y_test, y_score)\n",
    "\n",
    "# AUC\n",
    "roc_auc_area = auc(fpr, tpr)\n",
    "\n",
    "# ROC - AUC score\n",
    "ROC_AUC = roc_auc_score(y_test, y_pred1)\n",
    "print('ROC AUC Score : {:.4F}'.format(ROC_AUC))\n",
    "\n",
    "plt.figure(figsize= (6, 4))\n",
    "lw= 2\n",
    "plt.plot(fpr, tpr, color= 'blue', lw= lw, label= 'ROC curve (area= %0.2f)' % roc_auc_area)\n",
    "\n",
    "plt.plot([0, 1], [0, 1], color= 'black', lw= lw, linestyle= '--')\n",
    "\n",
    "plt.title('Receiver Operating Characteristic (ROC) Curve')\n",
    "plt.xlabel('False Positive Rate')\n",
    "plt.ylabel('True Positive Rate')\n",
    "plt.legend(loc= 'lower right')\n",
    "plt.show()"
   ]
  },
  {
   "cell_type": "markdown",
   "metadata": {},
   "source": [
    "with a ROC-AUC score of 0.8924 and a relatively high AUC 0f 0.89, this model is more reliable in distinguishing between various classess and is expected to perform well on unseen data.\n",
    "\n",
    "Now that the model's performance on unseen data is established, fit the test_set_df into the model to get predictions for h1n1_vaccine administration."
   ]
  },
  {
   "cell_type": "code",
   "execution_count": 37,
   "metadata": {},
   "outputs": [],
   "source": [
    "# Ensure the columns of the test_set_df are aligned to the X.train columns\n",
    "test_set_df1 = test_set_df[X_train.columns]\n",
    "\n",
    "# Drop columns that are not aligned to X.train if any\n",
    "for col in X_train.columns:\n",
    "    if col not in test_set_df1.columns:\n",
    "        test_set_df1[col] = 0"
   ]
  },
  {
   "cell_type": "code",
   "execution_count": 38,
   "metadata": {},
   "outputs": [
    {
     "data": {
      "text/html": [
       "<div>\n",
       "<style scoped>\n",
       "    .dataframe tbody tr th:only-of-type {\n",
       "        vertical-align: middle;\n",
       "    }\n",
       "\n",
       "    .dataframe tbody tr th {\n",
       "        vertical-align: top;\n",
       "    }\n",
       "\n",
       "    .dataframe thead th {\n",
       "        text-align: right;\n",
       "    }\n",
       "</style>\n",
       "<table border=\"1\" class=\"dataframe\">\n",
       "  <thead>\n",
       "    <tr style=\"text-align: right;\">\n",
       "      <th></th>\n",
       "      <th>yes h1n1_vaccine (1)</th>\n",
       "    </tr>\n",
       "  </thead>\n",
       "  <tbody>\n",
       "    <tr>\n",
       "      <th>0</th>\n",
       "      <td>0.1</td>\n",
       "    </tr>\n",
       "    <tr>\n",
       "      <th>1</th>\n",
       "      <td>0.2</td>\n",
       "    </tr>\n",
       "    <tr>\n",
       "      <th>2</th>\n",
       "      <td>0.1</td>\n",
       "    </tr>\n",
       "    <tr>\n",
       "      <th>3</th>\n",
       "      <td>0.6</td>\n",
       "    </tr>\n",
       "    <tr>\n",
       "      <th>4</th>\n",
       "      <td>0.2</td>\n",
       "    </tr>\n",
       "    <tr>\n",
       "      <th>...</th>\n",
       "      <td>...</td>\n",
       "    </tr>\n",
       "    <tr>\n",
       "      <th>26703</th>\n",
       "      <td>0.1</td>\n",
       "    </tr>\n",
       "    <tr>\n",
       "      <th>26704</th>\n",
       "      <td>0.3</td>\n",
       "    </tr>\n",
       "    <tr>\n",
       "      <th>26705</th>\n",
       "      <td>0.1</td>\n",
       "    </tr>\n",
       "    <tr>\n",
       "      <th>26706</th>\n",
       "      <td>0.0</td>\n",
       "    </tr>\n",
       "    <tr>\n",
       "      <th>26707</th>\n",
       "      <td>0.4</td>\n",
       "    </tr>\n",
       "  </tbody>\n",
       "</table>\n",
       "<p>26708 rows × 1 columns</p>\n",
       "</div>"
      ],
      "text/plain": [
       "       yes h1n1_vaccine (1)\n",
       "0                       0.1\n",
       "1                       0.2\n",
       "2                       0.1\n",
       "3                       0.6\n",
       "4                       0.2\n",
       "...                     ...\n",
       "26703                   0.1\n",
       "26704                   0.3\n",
       "26705                   0.1\n",
       "26706                   0.0\n",
       "26707                   0.4\n",
       "\n",
       "[26708 rows x 1 columns]"
      ]
     },
     "execution_count": 38,
     "metadata": {},
     "output_type": "execute_result"
    }
   ],
   "source": [
    "# Fit the test_set_df into the logistic regression model\n",
    "model = LogisticRegression(max_iter= 1000)\n",
    "model.fit(X_train, y_train)\n",
    "\n",
    "# Predict for y in the test_set_df\n",
    "y_predictions_prob = model.predict_proba(test_set_df1)\n",
    "y_predictions_prob_df = pd.DataFrame(data= y_predictions_prob, columns=['no h1n1_vaccine (0)', 'yes h1n1_vaccine (1)'])\n",
    "y_predictions_prob_df = y_predictions_prob_df.round(1).drop(columns= ['no h1n1_vaccine (0)'])\n",
    "y_predictions_prob_df"
   ]
  },
  {
   "cell_type": "markdown",
   "metadata": {},
   "source": [
    "**9. Train-Test Split**\n",
    "\n",
    "Split the training_set_df into a training and test subsets for training and testing the model.\n",
    "\n",
    "    b. seasonal_vaccine\n",
    "Move to seasonal_vaccine as the dependent variable (y) and repeat the classification modeling process with logistic regression."
   ]
  },
  {
   "cell_type": "code",
   "execution_count": 39,
   "metadata": {},
   "outputs": [
    {
     "data": {
      "text/plain": [
       "((21365, 95), (5342, 95))"
      ]
     },
     "execution_count": 39,
     "metadata": {},
     "output_type": "execute_result"
    }
   ],
   "source": [
    "# Define X and y using the training_set_df\n",
    "y = training_set_df['seasonal_vaccine_1']\n",
    "X = training_set_df.drop(columns= 'seasonal_vaccine_1')\n",
    "\n",
    "\n",
    "# Split data\n",
    "X_train, X_test, y_train, y_test = train_test_split(X, y, test_size= 0.2, random_state= 42)\n",
    "\n",
    "X_train.shape, X_test.shape"
   ]
  },
  {
   "cell_type": "code",
   "execution_count": 40,
   "metadata": {},
   "outputs": [
    {
     "data": {
      "text/html": [
       "<div>\n",
       "<style scoped>\n",
       "    .dataframe tbody tr th:only-of-type {\n",
       "        vertical-align: middle;\n",
       "    }\n",
       "\n",
       "    .dataframe tbody tr th {\n",
       "        vertical-align: top;\n",
       "    }\n",
       "\n",
       "    .dataframe thead th {\n",
       "        text-align: right;\n",
       "    }\n",
       "</style>\n",
       "<table border=\"1\" class=\"dataframe\">\n",
       "  <thead>\n",
       "    <tr style=\"text-align: right;\">\n",
       "      <th></th>\n",
       "      <th>h1n1_vaccine_1</th>\n",
       "      <th>h1n1_concern_1.0</th>\n",
       "      <th>h1n1_concern_2.0</th>\n",
       "      <th>h1n1_concern_3.0</th>\n",
       "      <th>h1n1_knowledge_1.0</th>\n",
       "      <th>h1n1_knowledge_2.0</th>\n",
       "      <th>behavioral_antiviral_meds_1.0</th>\n",
       "      <th>behavioral_avoidance_1.0</th>\n",
       "      <th>behavioral_avoidance_nan</th>\n",
       "      <th>behavioral_face_mask_1.0</th>\n",
       "      <th>...</th>\n",
       "      <th>hhs_geo_region_dqpwygqj</th>\n",
       "      <th>hhs_geo_region_fpwskwrf</th>\n",
       "      <th>hhs_geo_region_kbazzjca</th>\n",
       "      <th>hhs_geo_region_lrircsnp</th>\n",
       "      <th>hhs_geo_region_lzgpxyit</th>\n",
       "      <th>hhs_geo_region_mlyzmhmf</th>\n",
       "      <th>hhs_geo_region_oxchjgsf</th>\n",
       "      <th>hhs_geo_region_qufhixun</th>\n",
       "      <th>census_msa_MSA, Principle City</th>\n",
       "      <th>census_msa_Non-MSA</th>\n",
       "    </tr>\n",
       "  </thead>\n",
       "  <tbody>\n",
       "    <tr>\n",
       "      <th>count</th>\n",
       "      <td>21365.000000</td>\n",
       "      <td>21365.000000</td>\n",
       "      <td>21365.000000</td>\n",
       "      <td>21365.000000</td>\n",
       "      <td>21365.000000</td>\n",
       "      <td>21365.000000</td>\n",
       "      <td>21365.000000</td>\n",
       "      <td>21365.000000</td>\n",
       "      <td>21365.000000</td>\n",
       "      <td>21365.000000</td>\n",
       "      <td>...</td>\n",
       "      <td>21365.000000</td>\n",
       "      <td>21365.000000</td>\n",
       "      <td>21365.000000</td>\n",
       "      <td>21365.000000</td>\n",
       "      <td>21365.000000</td>\n",
       "      <td>21365.000000</td>\n",
       "      <td>21365.000000</td>\n",
       "      <td>21365.000000</td>\n",
       "      <td>21365.000000</td>\n",
       "      <td>21365.000000</td>\n",
       "    </tr>\n",
       "    <tr>\n",
       "      <th>mean</th>\n",
       "      <td>0.212684</td>\n",
       "      <td>0.306717</td>\n",
       "      <td>0.398923</td>\n",
       "      <td>0.171589</td>\n",
       "      <td>0.550012</td>\n",
       "      <td>0.356939</td>\n",
       "      <td>0.049193</td>\n",
       "      <td>0.718980</td>\n",
       "      <td>0.007629</td>\n",
       "      <td>0.070302</td>\n",
       "      <td>...</td>\n",
       "      <td>0.042312</td>\n",
       "      <td>0.121554</td>\n",
       "      <td>0.109057</td>\n",
       "      <td>0.078259</td>\n",
       "      <td>0.159420</td>\n",
       "      <td>0.082659</td>\n",
       "      <td>0.108963</td>\n",
       "      <td>0.117061</td>\n",
       "      <td>0.293939</td>\n",
       "      <td>0.272268</td>\n",
       "    </tr>\n",
       "    <tr>\n",
       "      <th>std</th>\n",
       "      <td>0.409216</td>\n",
       "      <td>0.461141</td>\n",
       "      <td>0.489688</td>\n",
       "      <td>0.377032</td>\n",
       "      <td>0.497504</td>\n",
       "      <td>0.479108</td>\n",
       "      <td>0.216275</td>\n",
       "      <td>0.449508</td>\n",
       "      <td>0.087014</td>\n",
       "      <td>0.255661</td>\n",
       "      <td>...</td>\n",
       "      <td>0.201305</td>\n",
       "      <td>0.326778</td>\n",
       "      <td>0.311718</td>\n",
       "      <td>0.268585</td>\n",
       "      <td>0.366075</td>\n",
       "      <td>0.275372</td>\n",
       "      <td>0.311600</td>\n",
       "      <td>0.321500</td>\n",
       "      <td>0.455575</td>\n",
       "      <td>0.445137</td>\n",
       "    </tr>\n",
       "    <tr>\n",
       "      <th>min</th>\n",
       "      <td>0.000000</td>\n",
       "      <td>0.000000</td>\n",
       "      <td>0.000000</td>\n",
       "      <td>0.000000</td>\n",
       "      <td>0.000000</td>\n",
       "      <td>0.000000</td>\n",
       "      <td>0.000000</td>\n",
       "      <td>0.000000</td>\n",
       "      <td>0.000000</td>\n",
       "      <td>0.000000</td>\n",
       "      <td>...</td>\n",
       "      <td>0.000000</td>\n",
       "      <td>0.000000</td>\n",
       "      <td>0.000000</td>\n",
       "      <td>0.000000</td>\n",
       "      <td>0.000000</td>\n",
       "      <td>0.000000</td>\n",
       "      <td>0.000000</td>\n",
       "      <td>0.000000</td>\n",
       "      <td>0.000000</td>\n",
       "      <td>0.000000</td>\n",
       "    </tr>\n",
       "    <tr>\n",
       "      <th>25%</th>\n",
       "      <td>0.000000</td>\n",
       "      <td>0.000000</td>\n",
       "      <td>0.000000</td>\n",
       "      <td>0.000000</td>\n",
       "      <td>0.000000</td>\n",
       "      <td>0.000000</td>\n",
       "      <td>0.000000</td>\n",
       "      <td>0.000000</td>\n",
       "      <td>0.000000</td>\n",
       "      <td>0.000000</td>\n",
       "      <td>...</td>\n",
       "      <td>0.000000</td>\n",
       "      <td>0.000000</td>\n",
       "      <td>0.000000</td>\n",
       "      <td>0.000000</td>\n",
       "      <td>0.000000</td>\n",
       "      <td>0.000000</td>\n",
       "      <td>0.000000</td>\n",
       "      <td>0.000000</td>\n",
       "      <td>0.000000</td>\n",
       "      <td>0.000000</td>\n",
       "    </tr>\n",
       "    <tr>\n",
       "      <th>50%</th>\n",
       "      <td>0.000000</td>\n",
       "      <td>0.000000</td>\n",
       "      <td>0.000000</td>\n",
       "      <td>0.000000</td>\n",
       "      <td>1.000000</td>\n",
       "      <td>0.000000</td>\n",
       "      <td>0.000000</td>\n",
       "      <td>1.000000</td>\n",
       "      <td>0.000000</td>\n",
       "      <td>0.000000</td>\n",
       "      <td>...</td>\n",
       "      <td>0.000000</td>\n",
       "      <td>0.000000</td>\n",
       "      <td>0.000000</td>\n",
       "      <td>0.000000</td>\n",
       "      <td>0.000000</td>\n",
       "      <td>0.000000</td>\n",
       "      <td>0.000000</td>\n",
       "      <td>0.000000</td>\n",
       "      <td>0.000000</td>\n",
       "      <td>0.000000</td>\n",
       "    </tr>\n",
       "    <tr>\n",
       "      <th>75%</th>\n",
       "      <td>0.000000</td>\n",
       "      <td>1.000000</td>\n",
       "      <td>1.000000</td>\n",
       "      <td>0.000000</td>\n",
       "      <td>1.000000</td>\n",
       "      <td>1.000000</td>\n",
       "      <td>0.000000</td>\n",
       "      <td>1.000000</td>\n",
       "      <td>0.000000</td>\n",
       "      <td>0.000000</td>\n",
       "      <td>...</td>\n",
       "      <td>0.000000</td>\n",
       "      <td>0.000000</td>\n",
       "      <td>0.000000</td>\n",
       "      <td>0.000000</td>\n",
       "      <td>0.000000</td>\n",
       "      <td>0.000000</td>\n",
       "      <td>0.000000</td>\n",
       "      <td>0.000000</td>\n",
       "      <td>1.000000</td>\n",
       "      <td>1.000000</td>\n",
       "    </tr>\n",
       "    <tr>\n",
       "      <th>max</th>\n",
       "      <td>1.000000</td>\n",
       "      <td>1.000000</td>\n",
       "      <td>1.000000</td>\n",
       "      <td>1.000000</td>\n",
       "      <td>1.000000</td>\n",
       "      <td>1.000000</td>\n",
       "      <td>1.000000</td>\n",
       "      <td>1.000000</td>\n",
       "      <td>1.000000</td>\n",
       "      <td>1.000000</td>\n",
       "      <td>...</td>\n",
       "      <td>1.000000</td>\n",
       "      <td>1.000000</td>\n",
       "      <td>1.000000</td>\n",
       "      <td>1.000000</td>\n",
       "      <td>1.000000</td>\n",
       "      <td>1.000000</td>\n",
       "      <td>1.000000</td>\n",
       "      <td>1.000000</td>\n",
       "      <td>1.000000</td>\n",
       "      <td>1.000000</td>\n",
       "    </tr>\n",
       "  </tbody>\n",
       "</table>\n",
       "<p>8 rows × 95 columns</p>\n",
       "</div>"
      ],
      "text/plain": [
       "       h1n1_vaccine_1  h1n1_concern_1.0  h1n1_concern_2.0  h1n1_concern_3.0  \\\n",
       "count    21365.000000      21365.000000      21365.000000      21365.000000   \n",
       "mean         0.212684          0.306717          0.398923          0.171589   \n",
       "std          0.409216          0.461141          0.489688          0.377032   \n",
       "min          0.000000          0.000000          0.000000          0.000000   \n",
       "25%          0.000000          0.000000          0.000000          0.000000   \n",
       "50%          0.000000          0.000000          0.000000          0.000000   \n",
       "75%          0.000000          1.000000          1.000000          0.000000   \n",
       "max          1.000000          1.000000          1.000000          1.000000   \n",
       "\n",
       "       h1n1_knowledge_1.0  h1n1_knowledge_2.0  behavioral_antiviral_meds_1.0  \\\n",
       "count        21365.000000        21365.000000                   21365.000000   \n",
       "mean             0.550012            0.356939                       0.049193   \n",
       "std              0.497504            0.479108                       0.216275   \n",
       "min              0.000000            0.000000                       0.000000   \n",
       "25%              0.000000            0.000000                       0.000000   \n",
       "50%              1.000000            0.000000                       0.000000   \n",
       "75%              1.000000            1.000000                       0.000000   \n",
       "max              1.000000            1.000000                       1.000000   \n",
       "\n",
       "       behavioral_avoidance_1.0  behavioral_avoidance_nan  \\\n",
       "count              21365.000000              21365.000000   \n",
       "mean                   0.718980                  0.007629   \n",
       "std                    0.449508                  0.087014   \n",
       "min                    0.000000                  0.000000   \n",
       "25%                    0.000000                  0.000000   \n",
       "50%                    1.000000                  0.000000   \n",
       "75%                    1.000000                  0.000000   \n",
       "max                    1.000000                  1.000000   \n",
       "\n",
       "       behavioral_face_mask_1.0  ...  hhs_geo_region_dqpwygqj  \\\n",
       "count              21365.000000  ...             21365.000000   \n",
       "mean                   0.070302  ...                 0.042312   \n",
       "std                    0.255661  ...                 0.201305   \n",
       "min                    0.000000  ...                 0.000000   \n",
       "25%                    0.000000  ...                 0.000000   \n",
       "50%                    0.000000  ...                 0.000000   \n",
       "75%                    0.000000  ...                 0.000000   \n",
       "max                    1.000000  ...                 1.000000   \n",
       "\n",
       "       hhs_geo_region_fpwskwrf  hhs_geo_region_kbazzjca  \\\n",
       "count             21365.000000             21365.000000   \n",
       "mean                  0.121554                 0.109057   \n",
       "std                   0.326778                 0.311718   \n",
       "min                   0.000000                 0.000000   \n",
       "25%                   0.000000                 0.000000   \n",
       "50%                   0.000000                 0.000000   \n",
       "75%                   0.000000                 0.000000   \n",
       "max                   1.000000                 1.000000   \n",
       "\n",
       "       hhs_geo_region_lrircsnp  hhs_geo_region_lzgpxyit  \\\n",
       "count             21365.000000             21365.000000   \n",
       "mean                  0.078259                 0.159420   \n",
       "std                   0.268585                 0.366075   \n",
       "min                   0.000000                 0.000000   \n",
       "25%                   0.000000                 0.000000   \n",
       "50%                   0.000000                 0.000000   \n",
       "75%                   0.000000                 0.000000   \n",
       "max                   1.000000                 1.000000   \n",
       "\n",
       "       hhs_geo_region_mlyzmhmf  hhs_geo_region_oxchjgsf  \\\n",
       "count             21365.000000             21365.000000   \n",
       "mean                  0.082659                 0.108963   \n",
       "std                   0.275372                 0.311600   \n",
       "min                   0.000000                 0.000000   \n",
       "25%                   0.000000                 0.000000   \n",
       "50%                   0.000000                 0.000000   \n",
       "75%                   0.000000                 0.000000   \n",
       "max                   1.000000                 1.000000   \n",
       "\n",
       "       hhs_geo_region_qufhixun  census_msa_MSA, Principle City  \\\n",
       "count             21365.000000                    21365.000000   \n",
       "mean                  0.117061                        0.293939   \n",
       "std                   0.321500                        0.455575   \n",
       "min                   0.000000                        0.000000   \n",
       "25%                   0.000000                        0.000000   \n",
       "50%                   0.000000                        0.000000   \n",
       "75%                   0.000000                        1.000000   \n",
       "max                   1.000000                        1.000000   \n",
       "\n",
       "       census_msa_Non-MSA  \n",
       "count        21365.000000  \n",
       "mean             0.272268  \n",
       "std              0.445137  \n",
       "min              0.000000  \n",
       "25%              0.000000  \n",
       "50%              0.000000  \n",
       "75%              1.000000  \n",
       "max              1.000000  \n",
       "\n",
       "[8 rows x 95 columns]"
      ]
     },
     "execution_count": 40,
     "metadata": {},
     "output_type": "execute_result"
    }
   ],
   "source": [
    "X_train.describe()"
   ]
  },
  {
   "cell_type": "code",
   "execution_count": 41,
   "metadata": {},
   "outputs": [
    {
     "data": {
      "text/html": [
       "<style>#sk-container-id-2 {color: black;background-color: white;}#sk-container-id-2 pre{padding: 0;}#sk-container-id-2 div.sk-toggleable {background-color: white;}#sk-container-id-2 label.sk-toggleable__label {cursor: pointer;display: block;width: 100%;margin-bottom: 0;padding: 0.3em;box-sizing: border-box;text-align: center;}#sk-container-id-2 label.sk-toggleable__label-arrow:before {content: \"▸\";float: left;margin-right: 0.25em;color: #696969;}#sk-container-id-2 label.sk-toggleable__label-arrow:hover:before {color: black;}#sk-container-id-2 div.sk-estimator:hover label.sk-toggleable__label-arrow:before {color: black;}#sk-container-id-2 div.sk-toggleable__content {max-height: 0;max-width: 0;overflow: hidden;text-align: left;background-color: #f0f8ff;}#sk-container-id-2 div.sk-toggleable__content pre {margin: 0.2em;color: black;border-radius: 0.25em;background-color: #f0f8ff;}#sk-container-id-2 input.sk-toggleable__control:checked~div.sk-toggleable__content {max-height: 200px;max-width: 100%;overflow: auto;}#sk-container-id-2 input.sk-toggleable__control:checked~label.sk-toggleable__label-arrow:before {content: \"▾\";}#sk-container-id-2 div.sk-estimator input.sk-toggleable__control:checked~label.sk-toggleable__label {background-color: #d4ebff;}#sk-container-id-2 div.sk-label input.sk-toggleable__control:checked~label.sk-toggleable__label {background-color: #d4ebff;}#sk-container-id-2 input.sk-hidden--visually {border: 0;clip: rect(1px 1px 1px 1px);clip: rect(1px, 1px, 1px, 1px);height: 1px;margin: -1px;overflow: hidden;padding: 0;position: absolute;width: 1px;}#sk-container-id-2 div.sk-estimator {font-family: monospace;background-color: #f0f8ff;border: 1px dotted black;border-radius: 0.25em;box-sizing: border-box;margin-bottom: 0.5em;}#sk-container-id-2 div.sk-estimator:hover {background-color: #d4ebff;}#sk-container-id-2 div.sk-parallel-item::after {content: \"\";width: 100%;border-bottom: 1px solid gray;flex-grow: 1;}#sk-container-id-2 div.sk-label:hover label.sk-toggleable__label {background-color: #d4ebff;}#sk-container-id-2 div.sk-serial::before {content: \"\";position: absolute;border-left: 1px solid gray;box-sizing: border-box;top: 0;bottom: 0;left: 50%;z-index: 0;}#sk-container-id-2 div.sk-serial {display: flex;flex-direction: column;align-items: center;background-color: white;padding-right: 0.2em;padding-left: 0.2em;position: relative;}#sk-container-id-2 div.sk-item {position: relative;z-index: 1;}#sk-container-id-2 div.sk-parallel {display: flex;align-items: stretch;justify-content: center;background-color: white;position: relative;}#sk-container-id-2 div.sk-item::before, #sk-container-id-2 div.sk-parallel-item::before {content: \"\";position: absolute;border-left: 1px solid gray;box-sizing: border-box;top: 0;bottom: 0;left: 50%;z-index: -1;}#sk-container-id-2 div.sk-parallel-item {display: flex;flex-direction: column;z-index: 1;position: relative;background-color: white;}#sk-container-id-2 div.sk-parallel-item:first-child::after {align-self: flex-end;width: 50%;}#sk-container-id-2 div.sk-parallel-item:last-child::after {align-self: flex-start;width: 50%;}#sk-container-id-2 div.sk-parallel-item:only-child::after {width: 0;}#sk-container-id-2 div.sk-dashed-wrapped {border: 1px dashed gray;margin: 0 0.4em 0.5em 0.4em;box-sizing: border-box;padding-bottom: 0.4em;background-color: white;}#sk-container-id-2 div.sk-label label {font-family: monospace;font-weight: bold;display: inline-block;line-height: 1.2em;}#sk-container-id-2 div.sk-label-container {text-align: center;}#sk-container-id-2 div.sk-container {/* jupyter's `normalize.less` sets `[hidden] { display: none; }` but bootstrap.min.css set `[hidden] { display: none !important; }` so we also need the `!important` here to be able to override the default hidden behavior on the sphinx rendered scikit-learn.org. See: https://github.com/scikit-learn/scikit-learn/issues/21755 */display: inline-block !important;position: relative;}#sk-container-id-2 div.sk-text-repr-fallback {display: none;}</style><div id=\"sk-container-id-2\" class=\"sk-top-container\"><div class=\"sk-text-repr-fallback\"><pre>LogisticRegression(C=100, random_state=42, solver=&#x27;liblinear&#x27;)</pre><b>In a Jupyter environment, please rerun this cell to show the HTML representation or trust the notebook. <br />On GitHub, the HTML representation is unable to render, please try loading this page with nbviewer.org.</b></div><div class=\"sk-container\" hidden><div class=\"sk-item\"><div class=\"sk-estimator sk-toggleable\"><input class=\"sk-toggleable__control sk-hidden--visually\" id=\"sk-estimator-id-2\" type=\"checkbox\" checked><label for=\"sk-estimator-id-2\" class=\"sk-toggleable__label sk-toggleable__label-arrow\">LogisticRegression</label><div class=\"sk-toggleable__content\"><pre>LogisticRegression(C=100, random_state=42, solver=&#x27;liblinear&#x27;)</pre></div></div></div></div></div>"
      ],
      "text/plain": [
       "LogisticRegression(C=100, random_state=42, solver='liblinear')"
      ]
     },
     "execution_count": 41,
     "metadata": {},
     "output_type": "execute_result"
    }
   ],
   "source": [
    "# Train the new model\n",
    "logreg001 = LogisticRegression(C= 100, solver='liblinear', random_state= 42)\n",
    "logreg001.fit(X_train, y_train)"
   ]
  },
  {
   "cell_type": "code",
   "execution_count": 42,
   "metadata": {},
   "outputs": [
    {
     "name": "stdout",
     "output_type": "stream",
     "text": [
      "Model accuracy score: 0.6818\n",
      "Training_set accuracy score: 0.6783\n"
     ]
    }
   ],
   "source": [
    "# Compare model accuracy score\n",
    "\n",
    "print('Model accuracy score: {0:0.4f}'. format(accuracy_score(y_test, y_pred_test)))\n",
    "print('Training_set accuracy score: {0:0.4f}'. format(accuracy_score(y_train, y_pred_train)))\n"
   ]
  },
  {
   "cell_type": "markdown",
   "metadata": {},
   "source": [
    "A model accuracy of 0.6818 is good. However, it is relatively lower compared to the h1n1 model. This could either be as a result of class imbalance, overfitting or underfitting. Check for overfitting and underfitting to verify ..."
   ]
  },
  {
   "cell_type": "code",
   "execution_count": 43,
   "metadata": {},
   "outputs": [
    {
     "name": "stdout",
     "output_type": "stream",
     "text": [
      "Training set score: 0.8027\n",
      "Test set score: 0.8085\n"
     ]
    }
   ],
   "source": [
    "# Check for overfitting and underfitting\n",
    "\n",
    "print('Training set score: {:.4f}'.format(logreg001.score(X_train, y_train)))\n",
    "\n",
    "print('Test set score: {:.4f}'.format(logreg001.score(X_test, y_test)))"
   ]
  },
  {
   "cell_type": "markdown",
   "metadata": {},
   "source": [
    "The training set score and the test set score are very close which indicates that the model generalizes well.\n",
    "\n",
    "Compare model accuracy with null accuracy for further verification ..."
   ]
  },
  {
   "cell_type": "code",
   "execution_count": 44,
   "metadata": {},
   "outputs": [
    {
     "data": {
      "text/plain": [
       "seasonal_vaccine_1\n",
       "0    2891\n",
       "1    2451\n",
       "Name: count, dtype: int64"
      ]
     },
     "execution_count": 44,
     "metadata": {},
     "output_type": "execute_result"
    }
   ],
   "source": [
    "y_test.value_counts()"
   ]
  },
  {
   "cell_type": "code",
   "execution_count": 45,
   "metadata": {},
   "outputs": [
    {
     "name": "stdout",
     "output_type": "stream",
     "text": [
      "Null accuracy score: 0.788469\n"
     ]
    }
   ],
   "source": [
    "# Compare model accuracy with null accuracy\n",
    "null_accuracy = (4212/(4212+1130))\n",
    "\n",
    "print('Null accuracy score: {0:04f}'.format(null_accuracy))"
   ]
  },
  {
   "cell_type": "markdown",
   "metadata": {},
   "source": [
    "The model accuracy of 0.6818 is lower than the null accuracy score of 0.7885. This indicates that the model is not effectively learning the data petterns. This could be due to class imbalance in the data. However, a null accuracy score of 78.9% demonstrates that the model's ability to predict the most common class is good."
   ]
  },
  {
   "cell_type": "markdown",
   "metadata": {},
   "source": [
    "**10. K-Fold Cross Validation**\n",
    "\n",
    "Employ K-fold cross-validation to assess model performance."
   ]
  },
  {
   "cell_type": "code",
   "execution_count": 46,
   "metadata": {},
   "outputs": [
    {
     "name": "stdout",
     "output_type": "stream",
     "text": [
      "Cross validation score: [0.81235377 0.80486664 0.80065512 0.79410388 0.81422555 0.78464419\n",
      " 0.77902622 0.79681648 0.79166667 0.82397004]\n"
     ]
    }
   ],
   "source": [
    "# K-fold cross validation\n",
    "scores = cross_val_score(logreg001, X_train, y_train, cv=10, scoring= 'accuracy')\n",
    "\n",
    "print('Cross validation score: {}'.format(scores))"
   ]
  },
  {
   "cell_type": "code",
   "execution_count": 47,
   "metadata": {},
   "outputs": [
    {
     "name": "stdout",
     "output_type": "stream",
     "text": [
      "Average cross-validation score: 0.8002\n"
     ]
    }
   ],
   "source": [
    "# Average cross-validation score\n",
    "print('Average cross-validation score: {:.4f}'.format(scores.mean()))"
   ]
  },
  {
   "cell_type": "markdown",
   "metadata": {},
   "source": [
    "The model's average cross-validation score of 0.80 is higher than the original model score of 0.6783, indicating good generalization and robustness. However, this is still lower than the h1n1 model accuracy. \n",
    "\n",
    "Examine the probability distribution of the data to decide whether to mode to a different model ..."
   ]
  },
  {
   "cell_type": "code",
   "execution_count": 48,
   "metadata": {},
   "outputs": [
    {
     "data": {
      "text/html": [
       "<div>\n",
       "<style scoped>\n",
       "    .dataframe tbody tr th:only-of-type {\n",
       "        vertical-align: middle;\n",
       "    }\n",
       "\n",
       "    .dataframe tbody tr th {\n",
       "        vertical-align: top;\n",
       "    }\n",
       "\n",
       "    .dataframe thead th {\n",
       "        text-align: right;\n",
       "    }\n",
       "</style>\n",
       "<table border=\"1\" class=\"dataframe\">\n",
       "  <thead>\n",
       "    <tr style=\"text-align: right;\">\n",
       "      <th></th>\n",
       "      <th>no seasonal_vaccine (0)</th>\n",
       "      <th>yes seasonal_vaccine (1)</th>\n",
       "    </tr>\n",
       "  </thead>\n",
       "  <tbody>\n",
       "    <tr>\n",
       "      <th>0</th>\n",
       "      <td>0.833889</td>\n",
       "      <td>0.166111</td>\n",
       "    </tr>\n",
       "    <tr>\n",
       "      <th>1</th>\n",
       "      <td>0.867780</td>\n",
       "      <td>0.132220</td>\n",
       "    </tr>\n",
       "    <tr>\n",
       "      <th>2</th>\n",
       "      <td>0.158789</td>\n",
       "      <td>0.841211</td>\n",
       "    </tr>\n",
       "    <tr>\n",
       "      <th>3</th>\n",
       "      <td>0.819210</td>\n",
       "      <td>0.180790</td>\n",
       "    </tr>\n",
       "    <tr>\n",
       "      <th>4</th>\n",
       "      <td>0.852104</td>\n",
       "      <td>0.147896</td>\n",
       "    </tr>\n",
       "    <tr>\n",
       "      <th>...</th>\n",
       "      <td>...</td>\n",
       "      <td>...</td>\n",
       "    </tr>\n",
       "    <tr>\n",
       "      <th>5337</th>\n",
       "      <td>0.043515</td>\n",
       "      <td>0.956485</td>\n",
       "    </tr>\n",
       "    <tr>\n",
       "      <th>5338</th>\n",
       "      <td>0.772232</td>\n",
       "      <td>0.227768</td>\n",
       "    </tr>\n",
       "    <tr>\n",
       "      <th>5339</th>\n",
       "      <td>0.296090</td>\n",
       "      <td>0.703910</td>\n",
       "    </tr>\n",
       "    <tr>\n",
       "      <th>5340</th>\n",
       "      <td>0.391313</td>\n",
       "      <td>0.608687</td>\n",
       "    </tr>\n",
       "    <tr>\n",
       "      <th>5341</th>\n",
       "      <td>0.347920</td>\n",
       "      <td>0.652080</td>\n",
       "    </tr>\n",
       "  </tbody>\n",
       "</table>\n",
       "<p>5342 rows × 2 columns</p>\n",
       "</div>"
      ],
      "text/plain": [
       "      no seasonal_vaccine (0)  yes seasonal_vaccine (1)\n",
       "0                    0.833889                  0.166111\n",
       "1                    0.867780                  0.132220\n",
       "2                    0.158789                  0.841211\n",
       "3                    0.819210                  0.180790\n",
       "4                    0.852104                  0.147896\n",
       "...                       ...                       ...\n",
       "5337                 0.043515                  0.956485\n",
       "5338                 0.772232                  0.227768\n",
       "5339                 0.296090                  0.703910\n",
       "5340                 0.391313                  0.608687\n",
       "5341                 0.347920                  0.652080\n",
       "\n",
       "[5342 rows x 2 columns]"
      ]
     },
     "execution_count": 48,
     "metadata": {},
     "output_type": "execute_result"
    }
   ],
   "source": [
    "# Check the probabilities of y_pred\n",
    "\n",
    "y_pred_prob = logreg001.predict_proba(X_test)\n",
    "\n",
    "y_pred_prob_df = pd.DataFrame(data= y_pred_prob, columns=['no seasonal_vaccine (0)', 'yes seasonal_vaccine (1)'])\n",
    "y_pred_prob_df"
   ]
  },
  {
   "cell_type": "code",
   "execution_count": 49,
   "metadata": {},
   "outputs": [
    {
     "data": {
      "text/plain": [
       "Text(0, 0.5, 'frequency')"
      ]
     },
     "execution_count": 49,
     "metadata": {},
     "output_type": "execute_result"
    },
    {
     "data": {
      "image/png": "[encoded data removed]",
      "text/plain": [
       "<Figure size 640x480 with 1 Axes>"
      ]
     },
     "metadata": {},
     "output_type": "display_data"
    }
   ],
   "source": [
    "# Store the probabilities of yes vaccine\n",
    "y_pred1 = logreg001.predict_proba(X_test)[:, 1]\n",
    "\n",
    "# Plot a histogram of the predicted probabilities\n",
    "plt.hist(y_pred1, bins= 10)\n",
    "plt.title('Histogram of Probabilities of Administering Seasonal Vaccine')\n",
    "plt.xlim(0,1)\n",
    "\n",
    "plt.xlabel('seasonal vaccine')\n",
    "plt.ylabel('frequency')"
   ]
  },
  {
   "cell_type": "markdown",
   "metadata": {},
   "source": [
    "This is a bimodal distribution, which results from class imbalance due to the presence of different groups with distinct characteristics. This negatively affects the model generalization and it could be the cause of the low model accuracy.\n",
    "\n",
    "To adress this issue, use decision trees to model the predictors of seasonal_vaccine, as they are less affected by class imbalance."
   ]
  },
  {
   "cell_type": "markdown",
   "metadata": {},
   "source": [
    "**10. Decission Tree**\n",
    "\n",
    "Use decision trees as a classifier to model and predict the seasonal_vaccine."
   ]
  },
  {
   "cell_type": "code",
   "execution_count": 50,
   "metadata": {},
   "outputs": [
    {
     "data": {
      "text/html": [
       "<style>#sk-container-id-3 {color: black;background-color: white;}#sk-container-id-3 pre{padding: 0;}#sk-container-id-3 div.sk-toggleable {background-color: white;}#sk-container-id-3 label.sk-toggleable__label {cursor: pointer;display: block;width: 100%;margin-bottom: 0;padding: 0.3em;box-sizing: border-box;text-align: center;}#sk-container-id-3 label.sk-toggleable__label-arrow:before {content: \"▸\";float: left;margin-right: 0.25em;color: #696969;}#sk-container-id-3 label.sk-toggleable__label-arrow:hover:before {color: black;}#sk-container-id-3 div.sk-estimator:hover label.sk-toggleable__label-arrow:before {color: black;}#sk-container-id-3 div.sk-toggleable__content {max-height: 0;max-width: 0;overflow: hidden;text-align: left;background-color: #f0f8ff;}#sk-container-id-3 div.sk-toggleable__content pre {margin: 0.2em;color: black;border-radius: 0.25em;background-color: #f0f8ff;}#sk-container-id-3 input.sk-toggleable__control:checked~div.sk-toggleable__content {max-height: 200px;max-width: 100%;overflow: auto;}#sk-container-id-3 input.sk-toggleable__control:checked~label.sk-toggleable__label-arrow:before {content: \"▾\";}#sk-container-id-3 div.sk-estimator input.sk-toggleable__control:checked~label.sk-toggleable__label {background-color: #d4ebff;}#sk-container-id-3 div.sk-label input.sk-toggleable__control:checked~label.sk-toggleable__label {background-color: #d4ebff;}#sk-container-id-3 input.sk-hidden--visually {border: 0;clip: rect(1px 1px 1px 1px);clip: rect(1px, 1px, 1px, 1px);height: 1px;margin: -1px;overflow: hidden;padding: 0;position: absolute;width: 1px;}#sk-container-id-3 div.sk-estimator {font-family: monospace;background-color: #f0f8ff;border: 1px dotted black;border-radius: 0.25em;box-sizing: border-box;margin-bottom: 0.5em;}#sk-container-id-3 div.sk-estimator:hover {background-color: #d4ebff;}#sk-container-id-3 div.sk-parallel-item::after {content: \"\";width: 100%;border-bottom: 1px solid gray;flex-grow: 1;}#sk-container-id-3 div.sk-label:hover label.sk-toggleable__label {background-color: #d4ebff;}#sk-container-id-3 div.sk-serial::before {content: \"\";position: absolute;border-left: 1px solid gray;box-sizing: border-box;top: 0;bottom: 0;left: 50%;z-index: 0;}#sk-container-id-3 div.sk-serial {display: flex;flex-direction: column;align-items: center;background-color: white;padding-right: 0.2em;padding-left: 0.2em;position: relative;}#sk-container-id-3 div.sk-item {position: relative;z-index: 1;}#sk-container-id-3 div.sk-parallel {display: flex;align-items: stretch;justify-content: center;background-color: white;position: relative;}#sk-container-id-3 div.sk-item::before, #sk-container-id-3 div.sk-parallel-item::before {content: \"\";position: absolute;border-left: 1px solid gray;box-sizing: border-box;top: 0;bottom: 0;left: 50%;z-index: -1;}#sk-container-id-3 div.sk-parallel-item {display: flex;flex-direction: column;z-index: 1;position: relative;background-color: white;}#sk-container-id-3 div.sk-parallel-item:first-child::after {align-self: flex-end;width: 50%;}#sk-container-id-3 div.sk-parallel-item:last-child::after {align-self: flex-start;width: 50%;}#sk-container-id-3 div.sk-parallel-item:only-child::after {width: 0;}#sk-container-id-3 div.sk-dashed-wrapped {border: 1px dashed gray;margin: 0 0.4em 0.5em 0.4em;box-sizing: border-box;padding-bottom: 0.4em;background-color: white;}#sk-container-id-3 div.sk-label label {font-family: monospace;font-weight: bold;display: inline-block;line-height: 1.2em;}#sk-container-id-3 div.sk-label-container {text-align: center;}#sk-container-id-3 div.sk-container {/* jupyter's `normalize.less` sets `[hidden] { display: none; }` but bootstrap.min.css set `[hidden] { display: none !important; }` so we also need the `!important` here to be able to override the default hidden behavior on the sphinx rendered scikit-learn.org. See: https://github.com/scikit-learn/scikit-learn/issues/21755 */display: inline-block !important;position: relative;}#sk-container-id-3 div.sk-text-repr-fallback {display: none;}</style><div id=\"sk-container-id-3\" class=\"sk-top-container\"><div class=\"sk-text-repr-fallback\"><pre>DecisionTreeClassifier(criterion=&#x27;entropy&#x27;, max_depth=10)</pre><b>In a Jupyter environment, please rerun this cell to show the HTML representation or trust the notebook. <br />On GitHub, the HTML representation is unable to render, please try loading this page with nbviewer.org.</b></div><div class=\"sk-container\" hidden><div class=\"sk-item\"><div class=\"sk-estimator sk-toggleable\"><input class=\"sk-toggleable__control sk-hidden--visually\" id=\"sk-estimator-id-3\" type=\"checkbox\" checked><label for=\"sk-estimator-id-3\" class=\"sk-toggleable__label sk-toggleable__label-arrow\">DecisionTreeClassifier</label><div class=\"sk-toggleable__content\"><pre>DecisionTreeClassifier(criterion=&#x27;entropy&#x27;, max_depth=10)</pre></div></div></div></div></div>"
      ],
      "text/plain": [
       "DecisionTreeClassifier(criterion='entropy', max_depth=10)"
      ]
     },
     "execution_count": 50,
     "metadata": {},
     "output_type": "execute_result"
    }
   ],
   "source": [
    "# Define X and y\n",
    "y = training_set_df['seasonal_vaccine_1']\n",
    "X = training_set_df.drop(columns= 'seasonal_vaccine_1')\n",
    "\n",
    "\n",
    "# Split data\n",
    "X_train, X_test, y_train, y_test = train_test_split(X, y, test_size= 0.2, random_state= 42)\n",
    "\n",
    "# Train and fit X_train into a Decision Tree Classifier\n",
    "clf = DecisionTreeClassifier(max_depth= 10, criterion= 'entropy')\n",
    "clf.fit(X_train, y_train)"
   ]
  },
  {
   "cell_type": "code",
   "execution_count": 51,
   "metadata": {},
   "outputs": [
    {
     "data": {
      "text/plain": [
       "{'ccp_alpha': 0.0,\n",
       " 'class_weight': None,\n",
       " 'criterion': 'entropy',\n",
       " 'max_depth': 10,\n",
       " 'max_features': None,\n",
       " 'max_leaf_nodes': None,\n",
       " 'min_impurity_decrease': 0.0,\n",
       " 'min_samples_leaf': 1,\n",
       " 'min_samples_split': 2,\n",
       " 'min_weight_fraction_leaf': 0.0,\n",
       " 'random_state': None,\n",
       " 'splitter': 'best'}"
      ]
     },
     "execution_count": 51,
     "metadata": {},
     "output_type": "execute_result"
    }
   ],
   "source": [
    "# Check the hyperparameters of this classifier\n",
    "clf = clf.fit(X_train, y_train)\n",
    "clf.get_params()"
   ]
  },
  {
   "cell_type": "code",
   "execution_count": 52,
   "metadata": {},
   "outputs": [
    {
     "data": {
      "text/plain": [
       "array([0, 0, 1, ..., 0, 0, 0])"
      ]
     },
     "execution_count": 52,
     "metadata": {},
     "output_type": "execute_result"
    }
   ],
   "source": [
    "# Predict y using X_test\n",
    "predictions = clf.predict(X_test)\n",
    "predictions"
   ]
  },
  {
   "cell_type": "code",
   "execution_count": 53,
   "metadata": {},
   "outputs": [
    {
     "data": {
      "text/plain": [
       "array([[0.83236994, 0.16763006],\n",
       "       [0.83236994, 0.16763006],\n",
       "       [0.33333333, 0.66666667],\n",
       "       ...,\n",
       "       [0.625     , 0.375     ],\n",
       "       [1.        , 0.        ],\n",
       "       [0.52      , 0.48      ]])"
      ]
     },
     "execution_count": 53,
     "metadata": {},
     "output_type": "execute_result"
    }
   ],
   "source": [
    "#Predict the probability of y\n",
    "pred_proba = clf.predict_proba(X_test)\n",
    "pred_proba"
   ]
  },
  {
   "cell_type": "code",
   "execution_count": 54,
   "metadata": {},
   "outputs": [
    {
     "data": {
      "text/plain": [
       "0.7776113815050543"
      ]
     },
     "execution_count": 54,
     "metadata": {},
     "output_type": "execute_result"
    }
   ],
   "source": [
    "accuracy_score(y_test, predictions)"
   ]
  },
  {
   "cell_type": "markdown",
   "metadata": {},
   "source": [
    "The decision tree classifier has a higher accuracy score of 0.7756, compared to the logistic regression model accuracy score of 0.6818. This indicates that data with a high class imbalance can perform much better with the decision trees classifier."
   ]
  },
  {
   "cell_type": "markdown",
   "metadata": {},
   "source": [
    "**11. Confusion Matrix**\n",
    "\n",
    "Check model performance across different classess using a confusion matrix."
   ]
  },
  {
   "cell_type": "code",
   "execution_count": 55,
   "metadata": {},
   "outputs": [
    {
     "data": {
      "text/plain": [
       "array([[2337,  554],\n",
       "       [ 634, 1817]], dtype=int64)"
      ]
     },
     "execution_count": 55,
     "metadata": {},
     "output_type": "execute_result"
    }
   ],
   "source": [
    "# Confusion matrix\n",
    "confusion_matrix(y_test, predictions, labels=[0, 1])"
   ]
  },
  {
   "cell_type": "markdown",
   "metadata": {},
   "source": [
    "    - True Negative (TN): 2334\n",
    "\n",
    "    - False Negative (FN): 557\n",
    "\n",
    "    - False Positive (TP): 642\n",
    "\n",
    "    - True Positive (FP): 1809\n",
    "\n",
    "Check for the classification report metrics for further evaluation of the classification matrix ..."
   ]
  },
  {
   "cell_type": "code",
   "execution_count": 56,
   "metadata": {},
   "outputs": [
    {
     "name": "stdout",
     "output_type": "stream",
     "text": [
      "                precision    recall  f1-score   support\n",
      "\n",
      "    vaccinated       0.79      0.81      0.80      2891\n",
      "not vaccinated       0.77      0.74      0.75      2451\n",
      "\n",
      "      accuracy                           0.78      5342\n",
      "     macro avg       0.78      0.77      0.78      5342\n",
      "  weighted avg       0.78      0.78      0.78      5342\n",
      "\n"
     ]
    }
   ],
   "source": [
    "# Classification report\n",
    "print(classification_report(y_test, predictions, target_names= ['vaccinated', 'not vaccinated']))"
   ]
  },
  {
   "cell_type": "markdown",
   "metadata": {},
   "source": [
    "Based on the precision, recall and f1-score, the model handles each class well, making it a good classifier for predicting seasonal_vaccine.\n",
    "\n",
    "Check for the features with the highest influence on the predictions ..."
   ]
  },
  {
   "cell_type": "code",
   "execution_count": 57,
   "metadata": {},
   "outputs": [
    {
     "data": {
      "text/html": [
       "<div>\n",
       "<style scoped>\n",
       "    .dataframe tbody tr th:only-of-type {\n",
       "        vertical-align: middle;\n",
       "    }\n",
       "\n",
       "    .dataframe tbody tr th {\n",
       "        vertical-align: top;\n",
       "    }\n",
       "\n",
       "    .dataframe thead th {\n",
       "        text-align: right;\n",
       "    }\n",
       "</style>\n",
       "<table border=\"1\" class=\"dataframe\">\n",
       "  <thead>\n",
       "    <tr style=\"text-align: right;\">\n",
       "      <th></th>\n",
       "      <th>0</th>\n",
       "    </tr>\n",
       "  </thead>\n",
       "  <tbody>\n",
       "    <tr>\n",
       "      <th>h1n1_vaccine_1</th>\n",
       "      <td>0.244756</td>\n",
       "    </tr>\n",
       "    <tr>\n",
       "      <th>opinion_seas_vacc_effective_5.0</th>\n",
       "      <td>0.180536</td>\n",
       "    </tr>\n",
       "    <tr>\n",
       "      <th>doctor_recc_seasonal_1.0</th>\n",
       "      <td>0.121552</td>\n",
       "    </tr>\n",
       "    <tr>\n",
       "      <th>age_group_65+ Years</th>\n",
       "      <td>0.054875</td>\n",
       "    </tr>\n",
       "    <tr>\n",
       "      <th>opinion_seas_risk_4.0</th>\n",
       "      <td>0.043603</td>\n",
       "    </tr>\n",
       "    <tr>\n",
       "      <th>doctor_recc_h1n1_1.0</th>\n",
       "      <td>0.040014</td>\n",
       "    </tr>\n",
       "    <tr>\n",
       "      <th>opinion_seas_risk_5.0</th>\n",
       "      <td>0.026841</td>\n",
       "    </tr>\n",
       "    <tr>\n",
       "      <th>opinion_seas_risk_2.0</th>\n",
       "      <td>0.013778</td>\n",
       "    </tr>\n",
       "    <tr>\n",
       "      <th>age_group_55 - 64 Years</th>\n",
       "      <td>0.011349</td>\n",
       "    </tr>\n",
       "    <tr>\n",
       "      <th>income_poverty_Below Poverty</th>\n",
       "      <td>0.010896</td>\n",
       "    </tr>\n",
       "    <tr>\n",
       "      <th>health_worker_1.0</th>\n",
       "      <td>0.009685</td>\n",
       "    </tr>\n",
       "    <tr>\n",
       "      <th>opinion_seas_sick_from_vacc_5.0</th>\n",
       "      <td>0.007751</td>\n",
       "    </tr>\n",
       "    <tr>\n",
       "      <th>health_insurance_1.0</th>\n",
       "      <td>0.007504</td>\n",
       "    </tr>\n",
       "    <tr>\n",
       "      <th>opinion_seas_sick_from_vacc_2.0</th>\n",
       "      <td>0.007281</td>\n",
       "    </tr>\n",
       "    <tr>\n",
       "      <th>race_White</th>\n",
       "      <td>0.006829</td>\n",
       "    </tr>\n",
       "    <tr>\n",
       "      <th>hhs_geo_region_fpwskwrf</th>\n",
       "      <td>0.006724</td>\n",
       "    </tr>\n",
       "    <tr>\n",
       "      <th>opinion_seas_vacc_effective_4.0</th>\n",
       "      <td>0.006719</td>\n",
       "    </tr>\n",
       "    <tr>\n",
       "      <th>h1n1_knowledge_2.0</th>\n",
       "      <td>0.006692</td>\n",
       "    </tr>\n",
       "    <tr>\n",
       "      <th>h1n1_concern_2.0</th>\n",
       "      <td>0.006124</td>\n",
       "    </tr>\n",
       "    <tr>\n",
       "      <th>h1n1_knowledge_1.0</th>\n",
       "      <td>0.006115</td>\n",
       "    </tr>\n",
       "  </tbody>\n",
       "</table>\n",
       "</div>"
      ],
      "text/plain": [
       "                                        0\n",
       "h1n1_vaccine_1                   0.244756\n",
       "opinion_seas_vacc_effective_5.0  0.180536\n",
       "doctor_recc_seasonal_1.0         0.121552\n",
       "age_group_65+ Years              0.054875\n",
       "opinion_seas_risk_4.0            0.043603\n",
       "doctor_recc_h1n1_1.0             0.040014\n",
       "opinion_seas_risk_5.0            0.026841\n",
       "opinion_seas_risk_2.0            0.013778\n",
       "age_group_55 - 64 Years          0.011349\n",
       "income_poverty_Below Poverty     0.010896\n",
       "health_worker_1.0                0.009685\n",
       "opinion_seas_sick_from_vacc_5.0  0.007751\n",
       "health_insurance_1.0             0.007504\n",
       "opinion_seas_sick_from_vacc_2.0  0.007281\n",
       "race_White                       0.006829\n",
       "hhs_geo_region_fpwskwrf          0.006724\n",
       "opinion_seas_vacc_effective_4.0  0.006719\n",
       "h1n1_knowledge_2.0               0.006692\n",
       "h1n1_concern_2.0                 0.006124\n",
       "h1n1_knowledge_1.0               0.006115"
      ]
     },
     "execution_count": 57,
     "metadata": {},
     "output_type": "execute_result"
    }
   ],
   "source": [
    "feature_names = X.columns\n",
    "feature_relevance = pd.DataFrame(clf.feature_importances_, index= feature_names).sort_values(0, ascending= False)\n",
    "feature_relevance.head(20)"
   ]
  },
  {
   "cell_type": "code",
   "execution_count": 58,
   "metadata": {},
   "outputs": [
    {
     "data": {
      "text/plain": [
       "<Axes: title={'center': 'Seasonal Vaccines Top 20 Influential Predictors'}, xlabel='predictors', ylabel='relevance'>"
      ]
     },
     "execution_count": 58,
     "metadata": {},
     "output_type": "execute_result"
    },
    {
     "data": {
      "image/png": "[encoded data removed]",
      "text/plain": [
       "<Figure size 640x480 with 1 Axes>"
      ]
     },
     "metadata": {},
     "output_type": "display_data"
    }
   ],
   "source": [
    "# Plot a bar graph to visualize the feature relevance\n",
    "\n",
    "feature_relevance.head(20).plot(kind= 'bar', title= 'Seasonal Vaccines Top 20 Influential Predictors', xlabel= 'predictors', ylabel= 'relevance')"
   ]
  },
  {
   "cell_type": "markdown",
   "metadata": {},
   "source": [
    "from the above visualization, it is clear that receiving the h1n1_vaccine has a major influence on a person's choice on receiving the seasonal_vaccine.\n",
    "\n",
    "Now that the model's performance on unseen data is established, fit the test_set_df into the model to predict seasonal_vaccine administration."
   ]
  },
  {
   "cell_type": "code",
   "execution_count": 59,
   "metadata": {},
   "outputs": [
    {
     "data": {
      "text/html": [
       "<div>\n",
       "<style scoped>\n",
       "    .dataframe tbody tr th:only-of-type {\n",
       "        vertical-align: middle;\n",
       "    }\n",
       "\n",
       "    .dataframe tbody tr th {\n",
       "        vertical-align: top;\n",
       "    }\n",
       "\n",
       "    .dataframe thead th {\n",
       "        text-align: right;\n",
       "    }\n",
       "</style>\n",
       "<table border=\"1\" class=\"dataframe\">\n",
       "  <thead>\n",
       "    <tr style=\"text-align: right;\">\n",
       "      <th></th>\n",
       "      <th>yes seasonal_vaccine (1)</th>\n",
       "    </tr>\n",
       "  </thead>\n",
       "  <tbody>\n",
       "    <tr>\n",
       "      <th>0</th>\n",
       "      <td>0.1</td>\n",
       "    </tr>\n",
       "    <tr>\n",
       "      <th>1</th>\n",
       "      <td>0.0</td>\n",
       "    </tr>\n",
       "    <tr>\n",
       "      <th>2</th>\n",
       "      <td>1.0</td>\n",
       "    </tr>\n",
       "    <tr>\n",
       "      <th>3</th>\n",
       "      <td>0.0</td>\n",
       "    </tr>\n",
       "    <tr>\n",
       "      <th>4</th>\n",
       "      <td>0.4</td>\n",
       "    </tr>\n",
       "    <tr>\n",
       "      <th>...</th>\n",
       "      <td>...</td>\n",
       "    </tr>\n",
       "    <tr>\n",
       "      <th>26703</th>\n",
       "      <td>0.3</td>\n",
       "    </tr>\n",
       "    <tr>\n",
       "      <th>26704</th>\n",
       "      <td>0.3</td>\n",
       "    </tr>\n",
       "    <tr>\n",
       "      <th>26705</th>\n",
       "      <td>0.2</td>\n",
       "    </tr>\n",
       "    <tr>\n",
       "      <th>26706</th>\n",
       "      <td>0.0</td>\n",
       "    </tr>\n",
       "    <tr>\n",
       "      <th>26707</th>\n",
       "      <td>1.0</td>\n",
       "    </tr>\n",
       "  </tbody>\n",
       "</table>\n",
       "<p>26708 rows × 1 columns</p>\n",
       "</div>"
      ],
      "text/plain": [
       "       yes seasonal_vaccine (1)\n",
       "0                           0.1\n",
       "1                           0.0\n",
       "2                           1.0\n",
       "3                           0.0\n",
       "4                           0.4\n",
       "...                         ...\n",
       "26703                       0.3\n",
       "26704                       0.3\n",
       "26705                       0.2\n",
       "26706                       0.0\n",
       "26707                       1.0\n",
       "\n",
       "[26708 rows x 1 columns]"
      ]
     },
     "execution_count": 59,
     "metadata": {},
     "output_type": "execute_result"
    }
   ],
   "source": [
    "# Ensure the columns of the test_set_df are aligned to the X.train columns\n",
    "test_set_df2 = test_set_df[X_train.columns]\n",
    "\n",
    "# Fit the test_set_df into the decision tree classifier\n",
    "model = DecisionTreeClassifier(max_depth= 10, criterion= 'entropy')\n",
    "model.fit(X_train, y_train)\n",
    "\n",
    "# Predict for y in the test_set_df\n",
    "y_predictions_prob = model.predict_proba(test_set_df2)\n",
    "y_predictions_prob_df1 = pd.DataFrame(data= y_predictions_prob, columns=['no seasonal_vaccine (0)', 'yes seasonal_vaccine (1)'])\n",
    "y_predictions_prob_df1 = y_predictions_prob_df1.round(1).drop(columns= ['no seasonal_vaccine (0)'])\n",
    "y_predictions_prob_df1"
   ]
  },
  {
   "cell_type": "code",
   "execution_count": 60,
   "metadata": {},
   "outputs": [
    {
     "data": {
      "text/html": [
       "<div>\n",
       "<style scoped>\n",
       "    .dataframe tbody tr th:only-of-type {\n",
       "        vertical-align: middle;\n",
       "    }\n",
       "\n",
       "    .dataframe tbody tr th {\n",
       "        vertical-align: top;\n",
       "    }\n",
       "\n",
       "    .dataframe thead th {\n",
       "        text-align: right;\n",
       "    }\n",
       "</style>\n",
       "<table border=\"1\" class=\"dataframe\">\n",
       "  <thead>\n",
       "    <tr style=\"text-align: right;\">\n",
       "      <th></th>\n",
       "      <th>respondent_id</th>\n",
       "      <th>h1n1_vaccine</th>\n",
       "      <th>seasonal_vaccine</th>\n",
       "    </tr>\n",
       "  </thead>\n",
       "  <tbody>\n",
       "    <tr>\n",
       "      <th>0</th>\n",
       "      <td>26707</td>\n",
       "      <td>0.1</td>\n",
       "      <td>0.1</td>\n",
       "    </tr>\n",
       "    <tr>\n",
       "      <th>1</th>\n",
       "      <td>26708</td>\n",
       "      <td>0.2</td>\n",
       "      <td>0.0</td>\n",
       "    </tr>\n",
       "    <tr>\n",
       "      <th>2</th>\n",
       "      <td>26709</td>\n",
       "      <td>0.1</td>\n",
       "      <td>1.0</td>\n",
       "    </tr>\n",
       "    <tr>\n",
       "      <th>3</th>\n",
       "      <td>26710</td>\n",
       "      <td>0.6</td>\n",
       "      <td>0.0</td>\n",
       "    </tr>\n",
       "    <tr>\n",
       "      <th>4</th>\n",
       "      <td>26711</td>\n",
       "      <td>0.2</td>\n",
       "      <td>0.4</td>\n",
       "    </tr>\n",
       "    <tr>\n",
       "      <th>...</th>\n",
       "      <td>...</td>\n",
       "      <td>...</td>\n",
       "      <td>...</td>\n",
       "    </tr>\n",
       "    <tr>\n",
       "      <th>26703</th>\n",
       "      <td>53410</td>\n",
       "      <td>0.1</td>\n",
       "      <td>0.3</td>\n",
       "    </tr>\n",
       "    <tr>\n",
       "      <th>26704</th>\n",
       "      <td>53411</td>\n",
       "      <td>0.3</td>\n",
       "      <td>0.3</td>\n",
       "    </tr>\n",
       "    <tr>\n",
       "      <th>26705</th>\n",
       "      <td>53412</td>\n",
       "      <td>0.1</td>\n",
       "      <td>0.2</td>\n",
       "    </tr>\n",
       "    <tr>\n",
       "      <th>26706</th>\n",
       "      <td>53413</td>\n",
       "      <td>0.0</td>\n",
       "      <td>0.0</td>\n",
       "    </tr>\n",
       "    <tr>\n",
       "      <th>26707</th>\n",
       "      <td>53414</td>\n",
       "      <td>0.4</td>\n",
       "      <td>1.0</td>\n",
       "    </tr>\n",
       "  </tbody>\n",
       "</table>\n",
       "<p>26708 rows × 3 columns</p>\n",
       "</div>"
      ],
      "text/plain": [
       "       respondent_id  h1n1_vaccine  seasonal_vaccine\n",
       "0              26707           0.1               0.1\n",
       "1              26708           0.2               0.0\n",
       "2              26709           0.1               1.0\n",
       "3              26710           0.6               0.0\n",
       "4              26711           0.2               0.4\n",
       "...              ...           ...               ...\n",
       "26703          53410           0.1               0.3\n",
       "26704          53411           0.3               0.3\n",
       "26705          53412           0.1               0.2\n",
       "26706          53413           0.0               0.0\n",
       "26707          53414           0.4               1.0\n",
       "\n",
       "[26708 rows x 3 columns]"
      ]
     },
     "execution_count": 60,
     "metadata": {},
     "output_type": "execute_result"
    }
   ],
   "source": [
    "predictions_df = pd.concat([test_set_features['respondent_id'], y_predictions_prob_df, y_predictions_prob_df1], axis=1)\n",
    "predictions_df = predictions_df.rename(columns= {'yes h1n1_vaccine (1)':'h1n1_vaccine', 'yes seasonal_vaccine (1)': 'seasonal_vaccine'})\n",
    "predictions_df"
   ]
  },
  {
   "cell_type": "code",
   "execution_count": 61,
   "metadata": {},
   "outputs": [],
   "source": [
    "## Save the prediction into csv\n",
    "predictions_df.to_csv('vaccine_predictions.csv', index= False)"
   ]
  },
  {
   "cell_type": "code",
   "execution_count": 62,
   "metadata": {},
   "outputs": [
    {
     "name": "stdout",
     "output_type": "stream",
     "text": [
      "h1n1 flu vaccine: 0.19325295791523137\n",
      "Seasonal flu vaccine:  0.47808147371574056\n",
      "Average vacination uptake:  0.335667215815486\n"
     ]
    }
   ],
   "source": [
    "h1n1_average = predictions_df['h1n1_vaccine'].mean()\n",
    "seasonal_average = predictions_df['seasonal_vaccine'].mean()\n",
    "vaccination_average = (h1n1_average + seasonal_average) / 2\n",
    "\n",
    "print('h1n1 flu vaccine:', h1n1_average)\n",
    "print('Seasonal flu vaccine: ', seasonal_average)\n",
    "print('Average vacination uptake: ', vaccination_average)"
   ]
  },
  {
   "cell_type": "markdown",
   "metadata": {},
   "source": [
    "On average, the vaccination rate is at 0.3351, with the predicted probability of receiving the h1n1 vaccine at 0.1932, while the probability of receiving the seasonal flu vaccine is 0.47704."
   ]
  },
  {
   "cell_type": "markdown",
   "metadata": {},
   "source": [
    "Plot histograms of the predicted probabilities of vaccine uptake."
   ]
  },
  {
   "cell_type": "code",
   "execution_count": 63,
   "metadata": {},
   "outputs": [
    {
     "data": {
      "image/png": "[encoded data removed]",
      "text/plain": [
       "<Figure size 1200x500 with 2 Axes>"
      ]
     },
     "metadata": {},
     "output_type": "display_data"
    }
   ],
   "source": [
    "# Plot histograms of the predicted probabilities\n",
    "fig, axes = plt.subplots(nrows=1, ncols=2, figsize=(12, 5))\n",
    "\n",
    "# Histogram for h1n1 vaccine probabilities\n",
    "axes[0].hist(y_predictions_prob_df, bins=10, alpha=0.9)\n",
    "axes[0].set_xlabel('H1N1 Vaccine')\n",
    "axes[0].set_ylabel('Frequency')\n",
    "axes[0].set_title('Probability Distribution for H1N1 Vaccine')\n",
    "\n",
    "# Histogram for seasonal vaccine probabilities\n",
    "axes[1].hist(y_predictions_prob_df1, bins=10, alpha=0.9)\n",
    "axes[1].set_xlabel('Seasonal Vaccine')\n",
    "axes[1].set_ylabel('Frequency')\n",
    "axes[1].set_title('Probability Distribution for Seasonal Vaccine')\n",
    "\n",
    "# Adjust layout\n",
    "plt.tight_layout()\n",
    "plt.show()"
   ]
  },
  {
   "cell_type": "markdown",
   "metadata": {},
   "source": [
    "Both probability distributions are predicted to show gaps between the distribution bars, indicating the presence of distinct clusters or gaps in the data, with certain predictor values having fewer or no occurrences.\n",
    "\n",
    "The distribution for the H1N1 vaccine is predicted to be more positively skewed, while the seasonal flu vaccine distribution is expected to be multimodal."
   ]
  }
 ],
 "metadata": {
  "kernelspec": {
   "display_name": "Python 3",
   "language": "python",
   "name": "python3"
  },
  "language_info": {
   "codemirror_mode": {
    "name": "ipython",
    "version": 3
   },
   "file_extension": ".py",
   "mimetype": "text/x-python",
   "name": "python",
   "nbconvert_exporter": "python",
   "pygments_lexer": "ipython3",
   "version": "3.11.7"
  }
 },
 "nbformat": 4,
 "nbformat_minor": 2
}
